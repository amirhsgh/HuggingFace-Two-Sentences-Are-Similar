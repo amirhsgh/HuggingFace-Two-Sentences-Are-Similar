{
 "cells": [
  {
   "cell_type": "code",
   "outputs": [
    {
     "name": "stderr",
     "output_type": "stream",
     "text": [
      "C:\\Users\\Rooz\\anaconda3\\envs\\py_torch\\Lib\\site-packages\\tqdm\\auto.py:21: TqdmWarning: IProgress not found. Please update jupyter and ipywidgets. See https://ipywidgets.readthedocs.io/en/stable/user_install.html\n",
      "  from .autonotebook import tqdm as notebook_tqdm\n"
     ]
    }
   ],
   "source": [
    "import torch\n",
    "from datasets import load_dataset"
   ],
   "metadata": {
    "collapsed": false,
    "ExecuteTime": {
     "end_time": "2024-02-18T06:17:45.640182Z",
     "start_time": "2024-02-18T06:17:41.913919500Z"
    }
   },
   "id": "207a38a3adb7bb2a",
   "execution_count": 1
  },
  {
   "cell_type": "code",
   "outputs": [],
   "source": [
    "dataset = load_dataset(\"glue\", 'mrpc')"
   ],
   "metadata": {
    "collapsed": false,
    "ExecuteTime": {
     "end_time": "2024-02-18T06:18:33.228365500Z",
     "start_time": "2024-02-18T06:18:15.720483300Z"
    }
   },
   "id": "b8c88e1660a8e355",
   "execution_count": 2
  },
  {
   "cell_type": "code",
   "outputs": [
    {
     "data": {
      "text/plain": "DatasetDict({\n    train: Dataset({\n        features: ['sentence1', 'sentence2', 'label', 'idx'],\n        num_rows: 3668\n    })\n    validation: Dataset({\n        features: ['sentence1', 'sentence2', 'label', 'idx'],\n        num_rows: 408\n    })\n    test: Dataset({\n        features: ['sentence1', 'sentence2', 'label', 'idx'],\n        num_rows: 1725\n    })\n})"
     },
     "execution_count": 3,
     "metadata": {},
     "output_type": "execute_result"
    }
   ],
   "source": [
    "dataset"
   ],
   "metadata": {
    "collapsed": false,
    "ExecuteTime": {
     "end_time": "2024-02-18T06:18:33.998181700Z",
     "start_time": "2024-02-18T06:18:33.975912600Z"
    }
   },
   "id": "55883f246f4192bb",
   "execution_count": 3
  },
  {
   "cell_type": "code",
   "outputs": [
    {
     "data": {
      "text/plain": "{'sentence1': Value(dtype='string', id=None),\n 'sentence2': Value(dtype='string', id=None),\n 'label': ClassLabel(names=['not_equivalent', 'equivalent'], id=None),\n 'idx': Value(dtype='int32', id=None)}"
     },
     "execution_count": 4,
     "metadata": {},
     "output_type": "execute_result"
    }
   ],
   "source": [
    "dataset['train'].features"
   ],
   "metadata": {
    "collapsed": false,
    "ExecuteTime": {
     "end_time": "2024-02-17T14:32:15.758866400Z",
     "start_time": "2024-02-17T14:32:15.752409700Z"
    }
   },
   "id": "72603ced2c23d41f",
   "execution_count": 4
  },
  {
   "cell_type": "code",
   "outputs": [],
   "source": [
    "from transformers import AutoTokenizer, DataCollatorWithPadding"
   ],
   "metadata": {
    "collapsed": false,
    "ExecuteTime": {
     "end_time": "2024-02-18T06:22:21.341416600Z",
     "start_time": "2024-02-18T06:22:20.438041400Z"
    }
   },
   "id": "1076666ef85b52fe",
   "execution_count": 9
  },
  {
   "cell_type": "code",
   "outputs": [],
   "source": [
    "check_point = 'bert-base-cased'\n",
    "tokenizer = AutoTokenizer.from_pretrained(check_point)"
   ],
   "metadata": {
    "collapsed": false,
    "ExecuteTime": {
     "end_time": "2024-02-18T06:22:22.896304900Z",
     "start_time": "2024-02-18T06:22:22.338613700Z"
    }
   },
   "id": "ac3cb0208002b25d",
   "execution_count": 10
  },
  {
   "cell_type": "code",
   "outputs": [],
   "source": [
    "def tokenize(examples):\n",
    "    return tokenizer(\n",
    "        examples['sentence1'], examples['sentence2'], padding=True, truncation=True, max_length=128 \n",
    "    )"
   ],
   "metadata": {
    "collapsed": false,
    "ExecuteTime": {
     "end_time": "2024-02-17T14:32:25.606033800Z",
     "start_time": "2024-02-17T14:32:25.595952100Z"
    }
   },
   "id": "5fc74929b44ae76b",
   "execution_count": 7
  },
  {
   "cell_type": "code",
   "outputs": [
    {
     "name": "stderr",
     "output_type": "stream",
     "text": [
      "Map: 100%|██████████| 408/408 [00:00<00:00, 8500.15 examples/s]\n"
     ]
    }
   ],
   "source": [
    "tokenize_datasets = dataset.map(tokenize, batched=True)"
   ],
   "metadata": {
    "collapsed": false,
    "ExecuteTime": {
     "end_time": "2024-02-17T14:32:30.028286600Z",
     "start_time": "2024-02-17T14:32:29.951162700Z"
    }
   },
   "id": "abeb0fb104b07642",
   "execution_count": 8
  },
  {
   "cell_type": "code",
   "outputs": [
    {
     "name": "stdout",
     "output_type": "stream",
     "text": [
      "{'train': ['sentence1', 'sentence2', 'label', 'idx', 'input_ids', 'token_type_ids', 'attention_mask'], 'validation': ['sentence1', 'sentence2', 'label', 'idx', 'input_ids', 'token_type_ids', 'attention_mask'], 'test': ['sentence1', 'sentence2', 'label', 'idx', 'input_ids', 'token_type_ids', 'attention_mask']}\n"
     ]
    }
   ],
   "source": [
    "print(tokenize_datasets.column_names)"
   ],
   "metadata": {
    "collapsed": false,
    "ExecuteTime": {
     "end_time": "2024-02-17T14:32:32.361071900Z",
     "start_time": "2024-02-17T14:32:32.355558Z"
    }
   },
   "id": "b8b8391dcca71627",
   "execution_count": 9
  },
  {
   "cell_type": "markdown",
   "source": [],
   "metadata": {
    "collapsed": false
   },
   "id": "815c024f102c7d16"
  },
  {
   "cell_type": "code",
   "outputs": [],
   "source": [
    "tokenize_datasets = tokenize_datasets.remove_columns(['idx', 'sentence1', 'sentence2'])\n",
    "tokenize_datasets = tokenize_datasets.rename_column('label', 'labels')\n",
    "tokenize_datasets = tokenize_datasets.with_format('torch')"
   ],
   "metadata": {
    "collapsed": false,
    "ExecuteTime": {
     "end_time": "2024-02-17T14:01:33.810804200Z",
     "start_time": "2024-02-17T14:01:33.800367400Z"
    }
   },
   "id": "dfc3aa23250e435d",
   "execution_count": 16
  },
  {
   "cell_type": "code",
   "outputs": [
    {
     "ename": "NameError",
     "evalue": "name 'tokenize_datasets' is not defined",
     "output_type": "error",
     "traceback": [
      "\u001B[1;31m---------------------------------------------------------------------------\u001B[0m",
      "\u001B[1;31mNameError\u001B[0m                                 Traceback (most recent call last)",
      "Cell \u001B[1;32mIn[58], line 1\u001B[0m\n\u001B[1;32m----> 1\u001B[0m tokenize_datasets[\u001B[38;5;124m'\u001B[39m\u001B[38;5;124mtrain\u001B[39m\u001B[38;5;124m'\u001B[39m][\u001B[38;5;241m0\u001B[39m]\n",
      "\u001B[1;31mNameError\u001B[0m: name 'tokenize_datasets' is not defined"
     ]
    }
   ],
   "source": [
    "tokenize_datasets['train']"
   ],
   "metadata": {
    "collapsed": false,
    "ExecuteTime": {
     "end_time": "2024-02-18T06:53:34.434874300Z",
     "start_time": "2024-02-18T06:53:34.393547900Z"
    }
   },
   "id": "1f63f2914986bd09",
   "execution_count": 58
  },
  {
   "cell_type": "code",
   "outputs": [],
   "source": [
    "small_train_dataset = tokenize_datasets['train'].select(range(100))"
   ],
   "metadata": {
    "collapsed": false,
    "ExecuteTime": {
     "end_time": "2024-02-17T14:02:50.401028100Z",
     "start_time": "2024-02-17T14:02:50.396083500Z"
    }
   },
   "id": "89825c4c51d8a3e8",
   "execution_count": 18
  },
  {
   "cell_type": "code",
   "outputs": [
    {
     "data": {
      "text/plain": "Dataset({\n    features: ['labels', 'input_ids', 'token_type_ids', 'attention_mask'],\n    num_rows: 100\n})"
     },
     "execution_count": 19,
     "metadata": {},
     "output_type": "execute_result"
    }
   ],
   "source": [
    "small_train_dataset"
   ],
   "metadata": {
    "collapsed": false,
    "ExecuteTime": {
     "end_time": "2024-02-17T14:02:53.253886700Z",
     "start_time": "2024-02-17T14:02:53.247379500Z"
    }
   },
   "id": "7ea01de63646416",
   "execution_count": 19
  },
  {
   "cell_type": "code",
   "outputs": [],
   "source": [
    "from torch.utils.data import DataLoader"
   ],
   "metadata": {
    "collapsed": false,
    "ExecuteTime": {
     "end_time": "2024-02-17T14:32:41.171540300Z",
     "start_time": "2024-02-17T14:32:41.165022200Z"
    }
   },
   "id": "1d8a5fd9d0467637",
   "execution_count": 10
  },
  {
   "cell_type": "code",
   "outputs": [],
   "source": [
    "train_dataloader = DataLoader(tokenize_datasets['train'], batch_size=16, shuffle=True)"
   ],
   "metadata": {
    "collapsed": false,
    "ExecuteTime": {
     "end_time": "2024-02-17T14:13:37.259349600Z",
     "start_time": "2024-02-17T14:13:37.254345500Z"
    }
   },
   "id": "f4c9f314e4f190d5",
   "execution_count": 21
  },
  {
   "cell_type": "code",
   "outputs": [
    {
     "data": {
      "text/plain": "<torch.utils.data.dataloader.DataLoader at 0x1e3a8897550>"
     },
     "execution_count": 22,
     "metadata": {},
     "output_type": "execute_result"
    }
   ],
   "source": [
    "train_dataloader"
   ],
   "metadata": {
    "collapsed": false,
    "ExecuteTime": {
     "end_time": "2024-02-17T14:13:40.104684Z",
     "start_time": "2024-02-17T14:13:40.098164Z"
    }
   },
   "id": "183261a6a7f77581",
   "execution_count": 22
  },
  {
   "cell_type": "markdown",
   "source": [
    "# Train Loop with classes"
   ],
   "metadata": {
    "collapsed": false
   },
   "id": "a16930ebbda5d61"
  },
  {
   "cell_type": "code",
   "outputs": [],
   "source": [],
   "metadata": {
    "collapsed": false
   },
   "id": "70fccb893a4b6556"
  },
  {
   "cell_type": "code",
   "outputs": [],
   "source": [
    "data_collator = DataCollatorWithPadding(tokenizer)"
   ],
   "metadata": {
    "collapsed": false,
    "ExecuteTime": {
     "end_time": "2024-02-17T14:37:09.523465800Z",
     "start_time": "2024-02-17T14:37:09.513923300Z"
    }
   },
   "id": "dc9ce274d398c36b",
   "execution_count": 18
  },
  {
   "cell_type": "code",
   "outputs": [
    {
     "data": {
      "text/plain": "DataCollatorWithPadding(tokenizer=BertTokenizerFast(name_or_path='bert-base-cased', vocab_size=28996, model_max_length=512, is_fast=True, padding_side='right', truncation_side='right', special_tokens={'unk_token': '[UNK]', 'sep_token': '[SEP]', 'pad_token': '[PAD]', 'cls_token': '[CLS]', 'mask_token': '[MASK]'}, clean_up_tokenization_spaces=True),  added_tokens_decoder={\n\t0: AddedToken(\"[PAD]\", rstrip=False, lstrip=False, single_word=False, normalized=False, special=True),\n\t100: AddedToken(\"[UNK]\", rstrip=False, lstrip=False, single_word=False, normalized=False, special=True),\n\t101: AddedToken(\"[CLS]\", rstrip=False, lstrip=False, single_word=False, normalized=False, special=True),\n\t102: AddedToken(\"[SEP]\", rstrip=False, lstrip=False, single_word=False, normalized=False, special=True),\n\t103: AddedToken(\"[MASK]\", rstrip=False, lstrip=False, single_word=False, normalized=False, special=True),\n}, padding=True, max_length=None, pad_to_multiple_of=None, return_tensors='pt')"
     },
     "execution_count": 19,
     "metadata": {},
     "output_type": "execute_result"
    }
   ],
   "source": [
    "data_collator"
   ],
   "metadata": {
    "collapsed": false,
    "ExecuteTime": {
     "end_time": "2024-02-17T14:37:10.094447300Z",
     "start_time": "2024-02-17T14:37:10.087503600Z"
    }
   },
   "id": "832c67fe0af58f37",
   "execution_count": 19
  },
  {
   "cell_type": "code",
   "outputs": [],
   "source": [
    "from transformers import AutoModelForSequenceClassification"
   ],
   "metadata": {
    "collapsed": false,
    "ExecuteTime": {
     "end_time": "2024-02-18T06:22:09.187422400Z",
     "start_time": "2024-02-18T06:22:08.782396300Z"
    }
   },
   "id": "f228aa621803e58",
   "execution_count": 7
  },
  {
   "cell_type": "code",
   "outputs": [
    {
     "name": "stderr",
     "output_type": "stream",
     "text": [
      "Some weights of BertForSequenceClassification were not initialized from the model checkpoint at bert-base-cased and are newly initialized: ['classifier.bias', 'classifier.weight']\n",
      "You should probably TRAIN this model on a down-stream task to be able to use it for predictions and inference.\n"
     ]
    }
   ],
   "source": [
    "model = AutoModelForSequenceClassification.from_pretrained(check_point, num_labels=2)"
   ],
   "metadata": {
    "collapsed": false,
    "ExecuteTime": {
     "end_time": "2024-02-18T06:22:32.725513900Z",
     "start_time": "2024-02-18T06:22:29.798803500Z"
    }
   },
   "id": "d66f88fd7ac52e90",
   "execution_count": 11
  },
  {
   "cell_type": "code",
   "outputs": [],
   "source": [
    "from transformers import TrainingArguments\n",
    "training_args = TrainingArguments(\n",
    "    'test-train',\n",
    "    per_device_train_batch_size=16,\n",
    "    per_device_eval_batch_size=16,\n",
    "    num_train_epochs=5,\n",
    "    learning_rate=2e-5,\n",
    "    weight_decay=.01\n",
    ")"
   ],
   "metadata": {
    "collapsed": false,
    "ExecuteTime": {
     "end_time": "2024-02-17T14:33:00.390238200Z",
     "start_time": "2024-02-17T14:33:00.359515800Z"
    }
   },
   "id": "44fec7fa4cd0fa89",
   "execution_count": 15
  },
  {
   "cell_type": "code",
   "outputs": [],
   "source": [
    "from transformers import Trainer"
   ],
   "metadata": {
    "collapsed": false,
    "ExecuteTime": {
     "end_time": "2024-02-17T14:33:19.626995500Z",
     "start_time": "2024-02-17T14:33:19.607967500Z"
    }
   },
   "id": "2545f71e8e469290",
   "execution_count": 16
  },
  {
   "cell_type": "code",
   "outputs": [
    {
     "data": {
      "text/plain": "<IPython.core.display.HTML object>",
      "text/html": "\n    <div>\n      \n      <progress value='1150' max='1150' style='width:300px; height:20px; vertical-align: middle;'></progress>\n      [1150/1150 03:52, Epoch 5/5]\n    </div>\n    <table border=\"1\" class=\"dataframe\">\n  <thead>\n <tr style=\"text-align: left;\">\n      <th>Step</th>\n      <th>Training Loss</th>\n    </tr>\n  </thead>\n  <tbody>\n    <tr>\n      <td>500</td>\n      <td>0.396800</td>\n    </tr>\n    <tr>\n      <td>1000</td>\n      <td>0.089500</td>\n    </tr>\n  </tbody>\n</table><p>"
     },
     "metadata": {},
     "output_type": "display_data"
    },
    {
     "data": {
      "text/plain": "TrainOutput(global_step=1150, training_loss=0.2162336196070132, metrics={'train_runtime': 233.5403, 'train_samples_per_second': 78.53, 'train_steps_per_second': 4.924, 'total_flos': 1045856167280400.0, 'train_loss': 0.2162336196070132, 'epoch': 5.0})"
     },
     "execution_count": 20,
     "metadata": {},
     "output_type": "execute_result"
    }
   ],
   "source": [
    "trainer = Trainer(\n",
    "    model,\n",
    "    training_args,\n",
    "    train_dataset=tokenize_datasets['train'],\n",
    "    eval_dataset=tokenize_datasets['validation'],\n",
    "    data_collator=data_collator,\n",
    "    tokenizer=tokenizer\n",
    ")\n",
    "trainer.train()"
   ],
   "metadata": {
    "collapsed": false,
    "ExecuteTime": {
     "end_time": "2024-02-17T14:41:18.776301100Z",
     "start_time": "2024-02-17T14:37:25.007776200Z"
    }
   },
   "id": "d47d3a75a1c24581",
   "execution_count": 20
  },
  {
   "cell_type": "code",
   "outputs": [
    {
     "data": {
      "text/plain": "<IPython.core.display.HTML object>",
      "text/html": ""
     },
     "metadata": {},
     "output_type": "display_data"
    }
   ],
   "source": [
    "pred = trainer.predict(tokenize_datasets['validation'])"
   ],
   "metadata": {
    "collapsed": false,
    "ExecuteTime": {
     "end_time": "2024-02-17T15:02:32.454591100Z",
     "start_time": "2024-02-17T15:02:30.905144200Z"
    }
   },
   "id": "ca249bb284790e3f",
   "execution_count": 21
  },
  {
   "cell_type": "code",
   "outputs": [
    {
     "name": "stdout",
     "output_type": "stream",
     "text": [
      "(408, 2) (408,)\n"
     ]
    }
   ],
   "source": [
    "print(pred.predictions.shape, pred.label_ids.shape)"
   ],
   "metadata": {
    "collapsed": false,
    "ExecuteTime": {
     "end_time": "2024-02-17T15:03:13.364885500Z",
     "start_time": "2024-02-17T15:03:13.356376500Z"
    }
   },
   "id": "a5986d65465585ce",
   "execution_count": 24
  },
  {
   "cell_type": "code",
   "outputs": [
    {
     "name": "stderr",
     "output_type": "stream",
     "text": [
      "C:\\Users\\Rooz\\anaconda3\\envs\\py_torch\\Lib\\site-packages\\datasets\\load.py:753: FutureWarning: The repository for glue contains custom code which must be executed to correctly load the metric. You can inspect the repository content at https://raw.githubusercontent.com/huggingface/datasets/2.17.0/metrics/glue/glue.py\n",
      "You can avoid this message in future by passing the argument `trust_remote_code=True`.\n",
      "Passing `trust_remote_code=True` will be mandatory to load this metric from the next major release of `datasets`.\n",
      "  warnings.warn(\n"
     ]
    },
    {
     "data": {
      "text/plain": "{'accuracy': 0.8480392156862745, 'f1': 0.8912280701754387}"
     },
     "execution_count": 28,
     "metadata": {},
     "output_type": "execute_result"
    }
   ],
   "source": [
    "import numpy as np\n",
    "from datasets import load_metric\n",
    "metric = load_metric(\"glue\", \"mrpc\")\n",
    "preds = np.argmax(pred.predictions, axis=-1)\n",
    "metric.compute(predictions=preds, references=pred.label_ids)"
   ],
   "metadata": {
    "collapsed": false,
    "ExecuteTime": {
     "end_time": "2024-02-17T15:10:46.174328100Z",
     "start_time": "2024-02-17T15:10:43.898527100Z"
    }
   },
   "id": "239e5fa80bed175f",
   "execution_count": 28
  },
  {
   "cell_type": "code",
   "outputs": [
    {
     "name": "stderr",
     "output_type": "stream",
     "text": [
      "C:\\Users\\Rooz\\anaconda3\\envs\\py_torch\\Lib\\site-packages\\datasets\\load.py:753: FutureWarning: The repository for glue contains custom code which must be executed to correctly load the metric. You can inspect the repository content at https://raw.githubusercontent.com/huggingface/datasets/2.17.0/metrics/glue/glue.py\n",
      "You can avoid this message in future by passing the argument `trust_remote_code=True`.\n",
      "Passing `trust_remote_code=True` will be mandatory to load this metric from the next major release of `datasets`.\n",
      "  warnings.warn(\n"
     ]
    }
   ],
   "source": [
    "metric = load_metric(\"glue\", \"mrpc\")\n",
    "def compute_metrics(eval_preds):\n",
    "    logits, labels = eval_preds\n",
    "    predictions = np.argmax(logits, axis=-1)\n",
    "    return metric.compute(predictions=predictions, references=labels)"
   ],
   "metadata": {
    "collapsed": false,
    "ExecuteTime": {
     "end_time": "2024-02-17T15:12:47.781877700Z",
     "start_time": "2024-02-17T15:12:45.280391300Z"
    }
   },
   "id": "2aa4879953d83ebb",
   "execution_count": 29
  },
  {
   "cell_type": "code",
   "outputs": [],
   "source": [
    "training_args = TrainingArguments(\n",
    "    'test-train',\n",
    "    per_device_train_batch_size=16,\n",
    "    per_device_eval_batch_size=16,\n",
    "    num_train_epochs=5,\n",
    "    learning_rate=2e-5,\n",
    "    weight_decay=.01,\n",
    "    evaluation_strategy='epoch'\n",
    ")"
   ],
   "metadata": {
    "collapsed": false
   },
   "id": "f22ae90f5351e8b4"
  },
  {
   "cell_type": "code",
   "outputs": [],
   "source": [
    "trainer = Trainer(\n",
    "    model,\n",
    "    training_args,\n",
    "    train_dataset=tokenize_datasets['train'],\n",
    "    eval_dataset=tokenize_datasets['validation'],\n",
    "    data_collator=data_collator,\n",
    "    tokenizer=tokenizer,\n",
    "    compute_metrics=compute_metrics\n",
    ")"
   ],
   "metadata": {
    "collapsed": false
   },
   "id": "a016decb35b7396a"
  },
  {
   "cell_type": "code",
   "outputs": [],
   "source": [],
   "metadata": {
    "collapsed": false
   },
   "id": "9cac034789f5bb51"
  },
  {
   "cell_type": "markdown",
   "source": [
    "# Custom loop train"
   ],
   "metadata": {
    "collapsed": false
   },
   "id": "70a29d922a5a2208"
  },
  {
   "cell_type": "code",
   "outputs": [],
   "source": [
    "def tokenize_function(example):\n",
    "    return tokenizer(example['sentence1'], example['sentence2'], truncation=True)"
   ],
   "metadata": {
    "collapsed": false,
    "ExecuteTime": {
     "end_time": "2024-02-18T06:21:55.454331300Z",
     "start_time": "2024-02-18T06:21:55.445224Z"
    }
   },
   "id": "fee30ab7b395ccad",
   "execution_count": 5
  },
  {
   "cell_type": "code",
   "outputs": [
    {
     "name": "stderr",
     "output_type": "stream",
     "text": [
      "Map: 100%|██████████| 408/408 [00:00<00:00, 5745.58 examples/s]\n"
     ]
    }
   ],
   "source": [
    "tokenized_datasets = dataset.map(tokenize_function, batched=True)"
   ],
   "metadata": {
    "collapsed": false,
    "ExecuteTime": {
     "end_time": "2024-02-18T06:22:40.849208100Z",
     "start_time": "2024-02-18T06:22:40.734637300Z"
    }
   },
   "id": "b50da38eaff0c11",
   "execution_count": 12
  },
  {
   "cell_type": "code",
   "outputs": [
    {
     "data": {
      "text/plain": "DatasetDict({\n    train: Dataset({\n        features: ['sentence1', 'sentence2', 'label', 'idx', 'input_ids', 'token_type_ids', 'attention_mask'],\n        num_rows: 3668\n    })\n    validation: Dataset({\n        features: ['sentence1', 'sentence2', 'label', 'idx', 'input_ids', 'token_type_ids', 'attention_mask'],\n        num_rows: 408\n    })\n    test: Dataset({\n        features: ['sentence1', 'sentence2', 'label', 'idx', 'input_ids', 'token_type_ids', 'attention_mask'],\n        num_rows: 1725\n    })\n})"
     },
     "execution_count": 13,
     "metadata": {},
     "output_type": "execute_result"
    }
   ],
   "source": [
    "tokenized_datasets"
   ],
   "metadata": {
    "collapsed": false,
    "ExecuteTime": {
     "end_time": "2024-02-18T06:22:43.142669100Z",
     "start_time": "2024-02-18T06:22:43.132300Z"
    }
   },
   "id": "cf3e8f6b7139ecfd",
   "execution_count": 13
  },
  {
   "cell_type": "code",
   "outputs": [],
   "source": [
    "tokenized_datasets = tokenized_datasets.remove_columns(['idx', 'sentence1', 'sentence2'])\n",
    "tokenized_datasets = tokenized_datasets.rename_column('label', 'labels')\n",
    "tokenized_datasets.set_format('torch')"
   ],
   "metadata": {
    "collapsed": false,
    "ExecuteTime": {
     "end_time": "2024-02-18T06:22:57.484830400Z",
     "start_time": "2024-02-18T06:22:57.465719100Z"
    }
   },
   "id": "18fcc6147cc598f5",
   "execution_count": 14
  },
  {
   "cell_type": "code",
   "outputs": [],
   "source": [
    "data_collator = DataCollatorWithPadding(tokenizer)"
   ],
   "metadata": {
    "collapsed": false,
    "ExecuteTime": {
     "end_time": "2024-02-18T06:22:58.209960700Z",
     "start_time": "2024-02-18T06:22:58.201947400Z"
    }
   },
   "id": "a64026f0059a0264",
   "execution_count": 15
  },
  {
   "cell_type": "code",
   "outputs": [],
   "source": [
    "from torch.utils.data import DataLoader"
   ],
   "metadata": {
    "collapsed": false,
    "ExecuteTime": {
     "end_time": "2024-02-18T06:23:00.138181700Z",
     "start_time": "2024-02-18T06:23:00.129169500Z"
    }
   },
   "id": "d63086ff278c6a5b",
   "execution_count": 16
  },
  {
   "cell_type": "code",
   "outputs": [],
   "source": [
    "train_dataloader = DataLoader(tokenized_datasets['train'], batch_size=8, shuffle=True, collate_fn=data_collator)"
   ],
   "metadata": {
    "collapsed": false,
    "ExecuteTime": {
     "end_time": "2024-02-18T06:23:02.609365900Z",
     "start_time": "2024-02-18T06:23:02.598578200Z"
    }
   },
   "id": "8cda146c5ed3263c",
   "execution_count": 17
  },
  {
   "cell_type": "code",
   "outputs": [],
   "source": [
    "eval_dataloader = DataLoader(tokenized_datasets['validation'], batch_size=8, shuffle=True, collate_fn=data_collator)"
   ],
   "metadata": {
    "collapsed": false,
    "ExecuteTime": {
     "end_time": "2024-02-18T06:23:03.287700500Z",
     "start_time": "2024-02-18T06:23:03.278682300Z"
    }
   },
   "id": "8993ef3cdfb5c7a6",
   "execution_count": 18
  },
  {
   "cell_type": "code",
   "outputs": [
    {
     "name": "stdout",
     "output_type": "stream",
     "text": [
      "{'labels': torch.Size([8]), 'input_ids': torch.Size([8, 62]), 'token_type_ids': torch.Size([8, 62]), 'attention_mask': torch.Size([8, 62])}\n"
     ]
    }
   ],
   "source": [
    "for batch in train_dataloader:\n",
    "    print({k: v.shape for k, v in batch.items()}, end='\\n')\n",
    "    break"
   ],
   "metadata": {
    "collapsed": false,
    "ExecuteTime": {
     "end_time": "2024-02-17T15:31:09.757432400Z",
     "start_time": "2024-02-17T15:31:09.751790800Z"
    }
   },
   "id": "2b51420f6b42b576",
   "execution_count": 29
  },
  {
   "cell_type": "code",
   "outputs": [],
   "source": [
    "model = AutoModelForSequenceClassification.from_pretrained(check_point, num_labels=2)"
   ],
   "metadata": {
    "collapsed": false,
    "ExecuteTime": {
     "end_time": "2024-02-17T15:32:22.638331200Z",
     "start_time": "2024-02-17T15:32:22.631814500Z"
    }
   },
   "id": "f183e53ae4f1cca0",
   "execution_count": 34
  },
  {
   "cell_type": "code",
   "outputs": [
    {
     "name": "stderr",
     "output_type": "stream",
     "text": [
      "C:\\Users\\Rooz\\anaconda3\\envs\\py_torch\\Lib\\site-packages\\transformers\\optimization.py:429: FutureWarning: This implementation of AdamW is deprecated and will be removed in a future version. Use the PyTorch implementation torch.optim.AdamW instead, or set `no_deprecation_warning=True` to disable this warning\n",
      "  warnings.warn(\n"
     ]
    }
   ],
   "source": [
    "from transformers import AdamW\n",
    "optimizer = AdamW(model.parameters(), lr=5e-5)"
   ],
   "metadata": {
    "collapsed": false,
    "ExecuteTime": {
     "end_time": "2024-02-18T06:23:15.880173300Z",
     "start_time": "2024-02-18T06:23:15.859168300Z"
    }
   },
   "id": "61374a884c36fcb7",
   "execution_count": 19
  },
  {
   "cell_type": "code",
   "outputs": [],
   "source": [
    "from transformers import get_scheduler\n",
    "num_epoch = 3\n",
    "num_training_steps = num_epoch * len(train_dataloader)\n",
    "lr_schedule = get_scheduler(\n",
    "    \"linear\",\n",
    "    optimizer=optimizer,\n",
    "    num_warmup_steps=0,\n",
    "    num_training_steps=num_training_steps\n",
    ")"
   ],
   "metadata": {
    "collapsed": false,
    "ExecuteTime": {
     "end_time": "2024-02-18T06:23:20.076956Z",
     "start_time": "2024-02-18T06:23:20.069231400Z"
    }
   },
   "id": "d32a4e35f5e7cb55",
   "execution_count": 20
  },
  {
   "cell_type": "code",
   "outputs": [],
   "source": [
    "import torch"
   ],
   "metadata": {
    "collapsed": false,
    "ExecuteTime": {
     "end_time": "2024-02-18T06:23:23.249584700Z",
     "start_time": "2024-02-18T06:23:23.242579100Z"
    }
   },
   "id": "22948695c027a9ac",
   "execution_count": 21
  },
  {
   "cell_type": "code",
   "outputs": [
    {
     "data": {
      "text/plain": "BertForSequenceClassification(\n  (bert): BertModel(\n    (embeddings): BertEmbeddings(\n      (word_embeddings): Embedding(28996, 768, padding_idx=0)\n      (position_embeddings): Embedding(512, 768)\n      (token_type_embeddings): Embedding(2, 768)\n      (LayerNorm): LayerNorm((768,), eps=1e-12, elementwise_affine=True)\n      (dropout): Dropout(p=0.1, inplace=False)\n    )\n    (encoder): BertEncoder(\n      (layer): ModuleList(\n        (0-11): 12 x BertLayer(\n          (attention): BertAttention(\n            (self): BertSelfAttention(\n              (query): Linear(in_features=768, out_features=768, bias=True)\n              (key): Linear(in_features=768, out_features=768, bias=True)\n              (value): Linear(in_features=768, out_features=768, bias=True)\n              (dropout): Dropout(p=0.1, inplace=False)\n            )\n            (output): BertSelfOutput(\n              (dense): Linear(in_features=768, out_features=768, bias=True)\n              (LayerNorm): LayerNorm((768,), eps=1e-12, elementwise_affine=True)\n              (dropout): Dropout(p=0.1, inplace=False)\n            )\n          )\n          (intermediate): BertIntermediate(\n            (dense): Linear(in_features=768, out_features=3072, bias=True)\n            (intermediate_act_fn): GELUActivation()\n          )\n          (output): BertOutput(\n            (dense): Linear(in_features=3072, out_features=768, bias=True)\n            (LayerNorm): LayerNorm((768,), eps=1e-12, elementwise_affine=True)\n            (dropout): Dropout(p=0.1, inplace=False)\n          )\n        )\n      )\n    )\n    (pooler): BertPooler(\n      (dense): Linear(in_features=768, out_features=768, bias=True)\n      (activation): Tanh()\n    )\n  )\n  (dropout): Dropout(p=0.1, inplace=False)\n  (classifier): Linear(in_features=768, out_features=2, bias=True)\n)"
     },
     "execution_count": 22,
     "metadata": {},
     "output_type": "execute_result"
    }
   ],
   "source": [
    "device = torch.device(\"cuda\") if torch.cuda.is_available() else torch.device(\"cpu\")\n",
    "model.to(device)"
   ],
   "metadata": {
    "collapsed": false,
    "ExecuteTime": {
     "end_time": "2024-02-18T06:23:25.243472800Z",
     "start_time": "2024-02-18T06:23:24.980898100Z"
    }
   },
   "id": "8e3a274fd509ec12",
   "execution_count": 22
  },
  {
   "cell_type": "code",
   "outputs": [
    {
     "name": "stderr",
     "output_type": "stream",
     "text": [
      "  0%|          | 0/1377 [00:00<?, ?it/s]"
     ]
    }
   ],
   "source": [
    "from tqdm import tqdm\n",
    "progress = tqdm(range(num_training_steps))"
   ],
   "metadata": {
    "collapsed": false,
    "ExecuteTime": {
     "end_time": "2024-02-18T06:23:59.047450600Z",
     "start_time": "2024-02-18T06:23:59.030472700Z"
    }
   },
   "id": "f6b1d10602068b34",
   "execution_count": 24
  },
  {
   "cell_type": "code",
   "outputs": [
    {
     "name": "stderr",
     "output_type": "stream",
     "text": [
      "\n",
      " 33%|███▎      | 459/1377 [10:27<20:54,  1.37s/it]\n",
      "\n",
      "  0%|          | 1/1377 [00:00<07:23,  3.11it/s]\u001B[A\n",
      "  0%|          | 3/1377 [00:00<03:27,  6.63it/s]\u001B[A\n",
      "  0%|          | 5/1377 [00:00<02:36,  8.74it/s]\u001B[A\n",
      "  1%|          | 7/1377 [00:00<02:19,  9.80it/s]\u001B[A\n",
      "  1%|          | 9/1377 [00:00<02:08, 10.63it/s]\u001B[A\n",
      "  1%|          | 11/1377 [00:01<02:08, 10.63it/s]\u001B[A\n",
      "  1%|          | 13/1377 [00:01<02:04, 10.93it/s]\u001B[A\n",
      "  1%|          | 15/1377 [00:01<02:01, 11.19it/s]\u001B[A\n",
      "  1%|          | 17/1377 [00:01<01:57, 11.58it/s]\u001B[A\n",
      "  1%|▏         | 19/1377 [00:01<02:00, 11.29it/s]\u001B[A\n",
      "  2%|▏         | 21/1377 [00:02<01:58, 11.42it/s]\u001B[A\n",
      "  2%|▏         | 23/1377 [00:02<01:55, 11.76it/s]\u001B[A\n",
      "  2%|▏         | 25/1377 [00:02<01:57, 11.53it/s]\u001B[A\n",
      "  2%|▏         | 27/1377 [00:02<01:56, 11.62it/s]\u001B[A\n",
      "  2%|▏         | 29/1377 [00:02<01:55, 11.63it/s]\u001B[A\n",
      "  2%|▏         | 31/1377 [00:02<01:56, 11.58it/s]\u001B[A\n",
      "  2%|▏         | 33/1377 [00:03<01:56, 11.53it/s]\u001B[A\n",
      "  3%|▎         | 35/1377 [00:03<01:56, 11.55it/s]\u001B[A\n",
      "  3%|▎         | 37/1377 [00:03<01:55, 11.55it/s]\u001B[A\n",
      "  3%|▎         | 39/1377 [00:03<01:55, 11.56it/s]\u001B[A\n",
      "  3%|▎         | 41/1377 [00:03<01:57, 11.37it/s]\u001B[A\n",
      "  3%|▎         | 43/1377 [00:03<01:55, 11.55it/s]\u001B[A\n",
      "  3%|▎         | 45/1377 [00:04<01:55, 11.57it/s]\u001B[A\n",
      "  3%|▎         | 47/1377 [00:04<01:52, 11.85it/s]\u001B[A\n",
      "  4%|▎         | 49/1377 [00:04<01:53, 11.73it/s]\u001B[A\n",
      "  4%|▎         | 51/1377 [00:04<01:50, 11.96it/s]\u001B[A\n",
      "  4%|▍         | 53/1377 [00:04<01:52, 11.80it/s]\u001B[A\n",
      "  4%|▍         | 55/1377 [00:04<01:55, 11.45it/s]\u001B[A\n",
      "  4%|▍         | 57/1377 [00:05<01:59, 11.04it/s]\u001B[A\n",
      "  4%|▍         | 59/1377 [00:05<01:56, 11.35it/s]\u001B[A\n",
      "  4%|▍         | 61/1377 [00:05<01:55, 11.37it/s]\u001B[A\n",
      "  5%|▍         | 63/1377 [00:05<01:57, 11.17it/s]\u001B[A\n",
      "  5%|▍         | 65/1377 [00:05<01:54, 11.49it/s]\u001B[A\n",
      "  5%|▍         | 67/1377 [00:06<01:53, 11.56it/s]\u001B[A\n",
      "  5%|▌         | 69/1377 [00:06<01:53, 11.54it/s]\u001B[A\n",
      "  5%|▌         | 71/1377 [00:06<01:53, 11.54it/s]\u001B[A\n",
      "  5%|▌         | 73/1377 [00:06<01:49, 11.87it/s]\u001B[A\n",
      "  5%|▌         | 75/1377 [00:06<01:49, 11.84it/s]\u001B[A\n",
      "  6%|▌         | 77/1377 [00:06<01:51, 11.70it/s]\u001B[A\n",
      "  6%|▌         | 79/1377 [00:07<01:48, 11.93it/s]\u001B[A\n",
      "  6%|▌         | 81/1377 [00:07<01:49, 11.81it/s]\u001B[A\n",
      "  6%|▌         | 83/1377 [00:07<01:55, 11.19it/s]\u001B[A\n",
      "  6%|▌         | 85/1377 [00:07<01:54, 11.31it/s]\u001B[A\n",
      "  6%|▋         | 87/1377 [00:07<01:53, 11.35it/s]\u001B[A\n",
      "  6%|▋         | 89/1377 [00:07<01:52, 11.40it/s]\u001B[A\n",
      "  7%|▋         | 91/1377 [00:08<01:53, 11.29it/s]\u001B[A\n",
      "  7%|▋         | 93/1377 [00:08<01:54, 11.25it/s]\u001B[A\n",
      "  7%|▋         | 95/1377 [00:08<01:53, 11.34it/s]\u001B[A\n",
      "  7%|▋         | 97/1377 [00:08<01:51, 11.46it/s]\u001B[A\n",
      "  7%|▋         | 99/1377 [00:08<01:51, 11.45it/s]\u001B[A\n",
      "  7%|▋         | 101/1377 [00:08<01:51, 11.49it/s]\u001B[A\n",
      "  7%|▋         | 103/1377 [00:09<01:51, 11.45it/s]\u001B[A\n",
      "  8%|▊         | 105/1377 [00:09<01:50, 11.55it/s]\u001B[A\n",
      "  8%|▊         | 107/1377 [00:09<01:48, 11.66it/s]\u001B[A\n",
      "  8%|▊         | 109/1377 [00:09<01:49, 11.54it/s]\u001B[A\n",
      "  8%|▊         | 111/1377 [00:09<01:52, 11.23it/s]\u001B[A\n",
      "  8%|▊         | 113/1377 [00:10<01:48, 11.64it/s]\u001B[A\n",
      "  8%|▊         | 115/1377 [00:10<01:48, 11.64it/s]\u001B[A\n",
      "  8%|▊         | 117/1377 [00:10<01:49, 11.56it/s]\u001B[A\n",
      "  9%|▊         | 119/1377 [00:10<01:46, 11.82it/s]\u001B[A\n",
      "  9%|▉         | 121/1377 [00:10<01:50, 11.32it/s]\u001B[A\n",
      "  9%|▉         | 123/1377 [00:10<01:49, 11.50it/s]\u001B[A\n",
      "  9%|▉         | 125/1377 [00:11<01:48, 11.49it/s]\u001B[A\n",
      "  9%|▉         | 127/1377 [00:11<01:48, 11.47it/s]\u001B[A\n",
      "  9%|▉         | 129/1377 [00:11<01:48, 11.51it/s]\u001B[A\n",
      " 10%|▉         | 131/1377 [00:11<01:45, 11.80it/s]\u001B[A\n",
      " 10%|▉         | 133/1377 [00:11<01:46, 11.70it/s]\u001B[A\n",
      " 10%|▉         | 135/1377 [00:11<01:46, 11.66it/s]\u001B[A\n",
      " 10%|▉         | 137/1377 [00:12<01:46, 11.69it/s]\u001B[A\n",
      " 10%|█         | 139/1377 [00:12<01:49, 11.29it/s]\u001B[A\n",
      " 10%|█         | 141/1377 [00:12<01:46, 11.60it/s]\u001B[A\n",
      " 10%|█         | 143/1377 [00:12<01:46, 11.57it/s]\u001B[A\n",
      " 11%|█         | 145/1377 [00:12<01:46, 11.57it/s]\u001B[A\n",
      " 11%|█         | 147/1377 [00:12<01:48, 11.33it/s]\u001B[A\n",
      " 11%|█         | 149/1377 [00:13<01:47, 11.47it/s]\u001B[A\n",
      " 11%|█         | 151/1377 [00:13<01:47, 11.37it/s]\u001B[A\n",
      " 11%|█         | 153/1377 [00:13<01:44, 11.73it/s]\u001B[A\n",
      " 11%|█▏        | 155/1377 [00:13<01:46, 11.46it/s]\u001B[A\n",
      " 11%|█▏        | 157/1377 [00:13<01:42, 11.96it/s]\u001B[A\n",
      " 12%|█▏        | 159/1377 [00:13<01:45, 11.60it/s]\u001B[A\n",
      " 12%|█▏        | 161/1377 [00:14<01:45, 11.50it/s]\u001B[A\n",
      " 12%|█▏        | 163/1377 [00:14<01:43, 11.77it/s]\u001B[A\n",
      " 12%|█▏        | 165/1377 [00:14<01:43, 11.69it/s]\u001B[A\n",
      " 12%|█▏        | 167/1377 [00:14<01:46, 11.39it/s]\u001B[A\n",
      " 12%|█▏        | 169/1377 [00:14<01:42, 11.76it/s]\u001B[A\n",
      " 12%|█▏        | 171/1377 [00:15<01:40, 11.97it/s]\u001B[A\n",
      " 13%|█▎        | 173/1377 [00:15<01:45, 11.45it/s]\u001B[A\n",
      " 13%|█▎        | 175/1377 [00:15<01:47, 11.17it/s]\u001B[A\n",
      " 13%|█▎        | 177/1377 [00:15<01:45, 11.34it/s]\u001B[A\n",
      " 13%|█▎        | 179/1377 [00:15<01:42, 11.66it/s]\u001B[A\n",
      " 13%|█▎        | 181/1377 [00:15<01:45, 11.32it/s]\u001B[A\n",
      " 13%|█▎        | 183/1377 [00:16<01:42, 11.69it/s]\u001B[A\n",
      " 13%|█▎        | 185/1377 [00:16<01:42, 11.58it/s]\u001B[A\n",
      " 14%|█▎        | 187/1377 [00:16<01:42, 11.66it/s]\u001B[A\n",
      " 14%|█▎        | 189/1377 [00:16<01:40, 11.77it/s]\u001B[A\n",
      " 14%|█▍        | 191/1377 [00:16<01:40, 11.75it/s]\u001B[A\n",
      " 14%|█▍        | 193/1377 [00:16<01:39, 11.96it/s]\u001B[A\n",
      " 14%|█▍        | 195/1377 [00:17<01:39, 11.84it/s]\u001B[A\n",
      " 14%|█▍        | 197/1377 [00:17<01:40, 11.79it/s]\u001B[A\n",
      " 14%|█▍        | 199/1377 [00:17<01:42, 11.52it/s]\u001B[A\n",
      " 15%|█▍        | 201/1377 [00:17<01:39, 11.85it/s]\u001B[A\n",
      " 15%|█▍        | 203/1377 [00:17<01:39, 11.75it/s]\u001B[A\n",
      " 15%|█▍        | 205/1377 [00:17<01:40, 11.69it/s]\u001B[A\n",
      " 15%|█▌        | 207/1377 [00:18<01:43, 11.35it/s]\u001B[A\n",
      " 15%|█▌        | 209/1377 [00:18<01:44, 11.13it/s]\u001B[A\n",
      " 15%|█▌        | 211/1377 [00:18<01:43, 11.22it/s]\u001B[A\n",
      " 15%|█▌        | 213/1377 [00:18<01:42, 11.37it/s]\u001B[A\n",
      " 16%|█▌        | 215/1377 [00:18<01:41, 11.44it/s]\u001B[A\n",
      " 16%|█▌        | 217/1377 [00:19<01:44, 11.13it/s]\u001B[A\n",
      " 16%|█▌        | 219/1377 [00:19<01:45, 11.02it/s]\u001B[A\n",
      " 16%|█▌        | 221/1377 [00:19<01:41, 11.38it/s]\u001B[A\n",
      " 16%|█▌        | 223/1377 [00:19<01:43, 11.15it/s]\u001B[A\n",
      " 16%|█▋        | 225/1377 [00:19<01:49, 10.50it/s]\u001B[A\n",
      " 16%|█▋        | 227/1377 [00:19<01:43, 11.12it/s]\u001B[A\n",
      " 17%|█▋        | 229/1377 [00:20<01:45, 10.88it/s]\u001B[A\n",
      " 17%|█▋        | 231/1377 [00:20<01:43, 11.13it/s]\u001B[A\n",
      " 17%|█▋        | 233/1377 [00:20<01:43, 11.02it/s]\u001B[A\n",
      " 17%|█▋        | 235/1377 [00:20<01:41, 11.25it/s]\u001B[A\n",
      " 17%|█▋        | 237/1377 [00:20<01:43, 11.00it/s]\u001B[A\n",
      " 17%|█▋        | 239/1377 [00:21<01:41, 11.19it/s]\u001B[A\n",
      " 18%|█▊        | 241/1377 [00:21<01:37, 11.62it/s]\u001B[A\n",
      " 18%|█▊        | 243/1377 [00:21<01:40, 11.31it/s]\u001B[A\n",
      " 18%|█▊        | 245/1377 [00:21<01:42, 11.08it/s]\u001B[A\n",
      " 18%|█▊        | 247/1377 [00:21<01:41, 11.18it/s]\u001B[A\n",
      " 18%|█▊        | 249/1377 [00:21<01:39, 11.32it/s]\u001B[A\n",
      " 18%|█▊        | 251/1377 [00:22<01:38, 11.41it/s]\u001B[A\n",
      " 18%|█▊        | 253/1377 [00:22<01:42, 10.92it/s]\u001B[A\n",
      " 19%|█▊        | 255/1377 [00:22<01:40, 11.12it/s]\u001B[A\n",
      " 19%|█▊        | 257/1377 [00:22<01:42, 10.89it/s]\u001B[A\n",
      " 19%|█▉        | 259/1377 [00:22<01:39, 11.21it/s]\u001B[A\n",
      " 19%|█▉        | 261/1377 [00:22<01:41, 11.05it/s]\u001B[A\n",
      " 19%|█▉        | 263/1377 [00:23<01:39, 11.14it/s]\u001B[A\n",
      " 19%|█▉        | 265/1377 [00:23<01:38, 11.29it/s]\u001B[A\n",
      " 19%|█▉        | 267/1377 [00:23<01:40, 11.10it/s]\u001B[A\n",
      " 20%|█▉        | 269/1377 [00:23<01:38, 11.26it/s]\u001B[A\n",
      " 20%|█▉        | 271/1377 [00:23<01:38, 11.18it/s]\u001B[A\n",
      " 20%|█▉        | 273/1377 [00:24<01:38, 11.18it/s]\u001B[A\n",
      " 20%|█▉        | 275/1377 [00:24<01:36, 11.38it/s]\u001B[A\n",
      " 20%|██        | 277/1377 [00:24<01:35, 11.48it/s]\u001B[A\n",
      " 20%|██        | 279/1377 [00:24<01:40, 10.95it/s]\u001B[A\n",
      " 20%|██        | 281/1377 [00:24<01:39, 11.00it/s]\u001B[A\n",
      " 21%|██        | 283/1377 [00:24<01:36, 11.28it/s]\u001B[A\n",
      " 21%|██        | 285/1377 [00:25<01:38, 11.11it/s]\u001B[A\n",
      " 21%|██        | 287/1377 [00:25<01:36, 11.31it/s]\u001B[A\n",
      " 21%|██        | 289/1377 [00:25<01:37, 11.10it/s]\u001B[A\n",
      " 21%|██        | 291/1377 [00:25<01:34, 11.51it/s]\u001B[A\n",
      " 21%|██▏       | 293/1377 [00:25<01:35, 11.33it/s]\u001B[A\n",
      " 21%|██▏       | 295/1377 [00:26<01:34, 11.45it/s]\u001B[A\n",
      " 22%|██▏       | 297/1377 [00:26<01:35, 11.28it/s]\u001B[A\n",
      " 22%|██▏       | 299/1377 [00:26<01:36, 11.17it/s]\u001B[A\n",
      " 22%|██▏       | 301/1377 [00:26<01:33, 11.48it/s]\u001B[A\n",
      " 22%|██▏       | 303/1377 [00:26<01:31, 11.76it/s]\u001B[A\n",
      " 22%|██▏       | 305/1377 [00:26<01:33, 11.41it/s]\u001B[A\n",
      " 22%|██▏       | 307/1377 [00:27<01:33, 11.50it/s]\u001B[A\n",
      " 22%|██▏       | 309/1377 [00:27<01:35, 11.22it/s]\u001B[A\n",
      " 23%|██▎       | 311/1377 [00:27<01:34, 11.33it/s]\u001B[A\n",
      " 23%|██▎       | 313/1377 [00:27<01:30, 11.77it/s]\u001B[A\n",
      " 23%|██▎       | 315/1377 [00:27<01:30, 11.73it/s]\u001B[A\n",
      " 23%|██▎       | 317/1377 [00:27<01:30, 11.71it/s]\u001B[A\n",
      " 23%|██▎       | 319/1377 [00:28<01:32, 11.38it/s]\u001B[A\n",
      " 23%|██▎       | 321/1377 [00:28<01:32, 11.46it/s]\u001B[A\n",
      " 23%|██▎       | 323/1377 [00:28<01:31, 11.58it/s]\u001B[A\n",
      " 24%|██▎       | 325/1377 [00:28<01:28, 11.87it/s]\u001B[A\n",
      " 24%|██▎       | 327/1377 [00:28<01:29, 11.78it/s]\u001B[A\n",
      " 24%|██▍       | 329/1377 [00:28<01:27, 12.04it/s]\u001B[A\n",
      " 24%|██▍       | 331/1377 [00:29<01:26, 12.09it/s]\u001B[A\n",
      " 24%|██▍       | 333/1377 [00:29<01:30, 11.51it/s]\u001B[A\n",
      " 24%|██▍       | 335/1377 [00:29<01:30, 11.49it/s]\u001B[A\n",
      " 24%|██▍       | 337/1377 [00:29<01:29, 11.57it/s]\u001B[A\n",
      " 25%|██▍       | 339/1377 [00:29<01:24, 12.24it/s]\u001B[A\n",
      " 25%|██▍       | 341/1377 [00:29<01:26, 11.98it/s]\u001B[A\n",
      " 25%|██▍       | 343/1377 [00:30<01:26, 12.00it/s]\u001B[A\n",
      " 25%|██▌       | 345/1377 [00:30<01:28, 11.66it/s]\u001B[A\n",
      " 25%|██▌       | 347/1377 [00:30<01:27, 11.78it/s]\u001B[A\n",
      " 25%|██▌       | 349/1377 [00:30<01:29, 11.52it/s]\u001B[A\n",
      " 25%|██▌       | 351/1377 [00:30<01:28, 11.55it/s]\u001B[A\n",
      " 26%|██▌       | 353/1377 [00:30<01:28, 11.58it/s]\u001B[A\n",
      " 26%|██▌       | 355/1377 [00:31<01:26, 11.86it/s]\u001B[A\n",
      " 26%|██▌       | 357/1377 [00:31<01:26, 11.86it/s]\u001B[A\n",
      " 26%|██▌       | 359/1377 [00:31<01:26, 11.77it/s]\u001B[A\n",
      " 26%|██▌       | 361/1377 [00:31<01:26, 11.72it/s]\u001B[A\n",
      " 26%|██▋       | 363/1377 [00:31<01:24, 11.97it/s]\u001B[A\n",
      " 27%|██▋       | 365/1377 [00:31<01:25, 11.90it/s]\u001B[A\n",
      " 27%|██▋       | 367/1377 [00:32<01:27, 11.52it/s]\u001B[A\n",
      " 27%|██▋       | 369/1377 [00:32<01:27, 11.50it/s]\u001B[A\n",
      " 27%|██▋       | 371/1377 [00:32<01:27, 11.56it/s]\u001B[A\n",
      " 27%|██▋       | 373/1377 [00:32<01:26, 11.59it/s]\u001B[A\n",
      " 27%|██▋       | 375/1377 [00:32<01:24, 11.86it/s]\u001B[A\n",
      " 27%|██▋       | 377/1377 [00:33<01:24, 11.78it/s]\u001B[A\n",
      " 28%|██▊       | 379/1377 [00:33<01:27, 11.42it/s]\u001B[A\n",
      " 28%|██▊       | 381/1377 [00:33<01:24, 11.82it/s]\u001B[A\n",
      " 28%|██▊       | 383/1377 [00:33<01:26, 11.46it/s]\u001B[A\n",
      " 28%|██▊       | 385/1377 [00:33<01:26, 11.53it/s]\u001B[A\n",
      " 28%|██▊       | 387/1377 [00:33<01:27, 11.32it/s]\u001B[A\n",
      " 28%|██▊       | 389/1377 [00:34<01:26, 11.42it/s]\u001B[A\n",
      " 28%|██▊       | 391/1377 [00:34<01:26, 11.46it/s]\u001B[A\n",
      " 29%|██▊       | 393/1377 [00:34<01:25, 11.53it/s]\u001B[A\n",
      " 29%|██▊       | 395/1377 [00:34<01:29, 10.99it/s]\u001B[A\n",
      " 29%|██▉       | 397/1377 [00:34<01:27, 11.19it/s]\u001B[A\n",
      " 29%|██▉       | 399/1377 [00:34<01:26, 11.29it/s]\u001B[A\n",
      " 29%|██▉       | 401/1377 [00:35<01:25, 11.38it/s]\u001B[A\n",
      " 29%|██▉       | 403/1377 [00:35<01:24, 11.48it/s]\u001B[A\n",
      " 29%|██▉       | 405/1377 [00:35<01:26, 11.25it/s]\u001B[A\n",
      " 30%|██▉       | 407/1377 [00:35<01:25, 11.38it/s]\u001B[A\n",
      " 30%|██▉       | 409/1377 [00:35<01:24, 11.47it/s]\u001B[A\n",
      " 30%|██▉       | 411/1377 [00:36<01:23, 11.50it/s]\u001B[A\n",
      " 30%|██▉       | 413/1377 [00:36<01:23, 11.58it/s]\u001B[A\n",
      " 30%|███       | 415/1377 [00:36<01:23, 11.56it/s]\u001B[A\n",
      " 30%|███       | 417/1377 [00:36<01:22, 11.60it/s]\u001B[A\n",
      " 30%|███       | 419/1377 [00:36<01:24, 11.34it/s]\u001B[A\n",
      " 31%|███       | 421/1377 [00:36<01:21, 11.68it/s]\u001B[A\n",
      " 31%|███       | 423/1377 [00:37<01:21, 11.64it/s]\u001B[A\n",
      " 31%|███       | 425/1377 [00:37<01:21, 11.65it/s]\u001B[A\n",
      " 31%|███       | 427/1377 [00:37<01:22, 11.54it/s]\u001B[A\n",
      " 31%|███       | 429/1377 [00:37<01:20, 11.75it/s]\u001B[A\n",
      " 31%|███▏      | 431/1377 [00:37<01:24, 11.25it/s]\u001B[A\n",
      " 31%|███▏      | 433/1377 [00:37<01:24, 11.18it/s]\u001B[A\n",
      " 32%|███▏      | 435/1377 [00:38<01:23, 11.33it/s]\u001B[A\n",
      " 32%|███▏      | 437/1377 [00:38<01:22, 11.41it/s]\u001B[A\n",
      " 32%|███▏      | 439/1377 [00:38<01:21, 11.49it/s]\u001B[A\n",
      " 32%|███▏      | 441/1377 [00:38<01:20, 11.58it/s]\u001B[A\n",
      " 32%|███▏      | 443/1377 [00:38<01:20, 11.59it/s]\u001B[A\n",
      " 32%|███▏      | 445/1377 [00:38<01:20, 11.64it/s]\u001B[A\n",
      " 32%|███▏      | 447/1377 [00:39<01:19, 11.64it/s]\u001B[A\n",
      " 33%|███▎      | 449/1377 [00:39<01:19, 11.63it/s]\u001B[A\n",
      " 33%|███▎      | 451/1377 [00:39<01:20, 11.49it/s]\u001B[A\n",
      " 33%|███▎      | 453/1377 [00:39<01:19, 11.68it/s]\u001B[A\n",
      " 33%|███▎      | 455/1377 [00:39<01:20, 11.44it/s]\u001B[A\n",
      " 33%|███▎      | 457/1377 [00:40<01:23, 11.06it/s]\u001B[A\n",
      " 33%|███▎      | 459/1377 [00:40<01:19, 11.53it/s]\u001B[A\n",
      " 33%|███▎      | 461/1377 [00:40<01:19, 11.57it/s]\u001B[A\n",
      " 34%|███▎      | 463/1377 [00:40<01:16, 11.89it/s]\u001B[A\n",
      " 34%|███▍      | 465/1377 [00:40<01:17, 11.81it/s]\u001B[A\n",
      " 34%|███▍      | 467/1377 [00:40<01:19, 11.44it/s]\u001B[A\n",
      " 34%|███▍      | 469/1377 [00:41<01:20, 11.24it/s]\u001B[A\n",
      " 34%|███▍      | 471/1377 [00:41<01:17, 11.67it/s]\u001B[A\n",
      " 34%|███▍      | 473/1377 [00:41<01:15, 12.04it/s]\u001B[A\n",
      " 34%|███▍      | 475/1377 [00:41<01:13, 12.25it/s]\u001B[A\n",
      " 35%|███▍      | 477/1377 [00:41<01:16, 11.74it/s]\u001B[A\n",
      " 35%|███▍      | 479/1377 [00:41<01:16, 11.68it/s]\u001B[A\n",
      " 35%|███▍      | 481/1377 [00:42<01:18, 11.37it/s]\u001B[A\n",
      " 35%|███▌      | 483/1377 [00:42<01:18, 11.43it/s]\u001B[A\n",
      " 35%|███▌      | 485/1377 [00:42<01:18, 11.30it/s]\u001B[A\n",
      " 35%|███▌      | 487/1377 [00:42<01:20, 11.08it/s]\u001B[A\n",
      " 36%|███▌      | 489/1377 [00:42<01:17, 11.52it/s]\u001B[A\n",
      " 36%|███▌      | 491/1377 [00:42<01:16, 11.55it/s]\u001B[A\n",
      " 36%|███▌      | 493/1377 [00:43<01:15, 11.67it/s]\u001B[A\n",
      " 36%|███▌      | 495/1377 [00:43<01:15, 11.63it/s]\u001B[A\n",
      " 36%|███▌      | 497/1377 [00:43<01:15, 11.61it/s]\u001B[A\n",
      " 36%|███▌      | 499/1377 [00:43<01:15, 11.61it/s]\u001B[A\n",
      " 36%|███▋      | 501/1377 [00:43<01:15, 11.66it/s]\u001B[A\n",
      " 37%|███▋      | 503/1377 [00:43<01:17, 11.32it/s]\u001B[A\n",
      " 37%|███▋      | 505/1377 [00:44<01:15, 11.49it/s]\u001B[A\n",
      " 37%|███▋      | 507/1377 [00:44<01:15, 11.58it/s]\u001B[A\n",
      " 37%|███▋      | 509/1377 [00:44<01:14, 11.61it/s]\u001B[A\n",
      " 37%|███▋      | 511/1377 [00:44<01:16, 11.31it/s]\u001B[A\n",
      " 37%|███▋      | 513/1377 [00:44<01:15, 11.51it/s]\u001B[A\n",
      " 37%|███▋      | 515/1377 [00:45<01:14, 11.58it/s]\u001B[A\n",
      " 38%|███▊      | 517/1377 [00:45<01:17, 11.04it/s]\u001B[A\n",
      " 38%|███▊      | 519/1377 [00:45<01:13, 11.61it/s]\u001B[A\n",
      " 38%|███▊      | 521/1377 [00:45<01:15, 11.29it/s]\u001B[A\n",
      " 38%|███▊      | 523/1377 [00:45<01:14, 11.43it/s]\u001B[A\n",
      " 38%|███▊      | 525/1377 [00:45<01:15, 11.25it/s]\u001B[A\n",
      " 38%|███▊      | 527/1377 [00:46<01:14, 11.34it/s]\u001B[A\n",
      " 38%|███▊      | 529/1377 [00:46<01:14, 11.46it/s]\u001B[A\n",
      " 39%|███▊      | 531/1377 [00:46<01:13, 11.53it/s]\u001B[A\n",
      " 39%|███▊      | 533/1377 [00:46<01:16, 11.02it/s]\u001B[A\n",
      " 39%|███▉      | 535/1377 [00:46<01:15, 11.19it/s]\u001B[A\n",
      " 39%|███▉      | 537/1377 [00:46<01:17, 10.90it/s]\u001B[A\n",
      " 39%|███▉      | 539/1377 [00:47<01:14, 11.24it/s]\u001B[A\n",
      " 39%|███▉      | 541/1377 [00:47<01:13, 11.36it/s]\u001B[A\n",
      " 39%|███▉      | 543/1377 [00:47<01:11, 11.68it/s]\u001B[A\n",
      " 40%|███▉      | 545/1377 [00:47<01:11, 11.69it/s]\u001B[A\n",
      " 40%|███▉      | 547/1377 [00:47<01:12, 11.37it/s]\u001B[A\n",
      " 40%|███▉      | 549/1377 [00:48<01:14, 11.19it/s]\u001B[A\n",
      " 40%|████      | 551/1377 [00:48<01:09, 11.87it/s]\u001B[A\n",
      " 40%|████      | 553/1377 [00:48<01:12, 11.44it/s]\u001B[A\n",
      " 40%|████      | 555/1377 [00:48<01:12, 11.37it/s]\u001B[A\n",
      " 40%|████      | 557/1377 [00:48<01:09, 11.72it/s]\u001B[A\n",
      " 41%|████      | 559/1377 [00:48<01:11, 11.38it/s]\u001B[A\n",
      " 41%|████      | 561/1377 [00:49<01:12, 11.19it/s]\u001B[A\n",
      " 41%|████      | 563/1377 [00:49<01:11, 11.33it/s]\u001B[A\n",
      " 41%|████      | 565/1377 [00:49<01:09, 11.70it/s]\u001B[A\n",
      " 41%|████      | 567/1377 [00:49<01:10, 11.45it/s]\u001B[A\n",
      " 41%|████▏     | 569/1377 [00:49<01:10, 11.44it/s]\u001B[A\n",
      " 41%|████▏     | 571/1377 [00:49<01:09, 11.58it/s]\u001B[A\n",
      " 42%|████▏     | 573/1377 [00:50<01:09, 11.54it/s]\u001B[A\n",
      " 42%|████▏     | 575/1377 [00:50<01:07, 11.87it/s]\u001B[A\n",
      " 42%|████▏     | 577/1377 [00:50<01:09, 11.53it/s]\u001B[A\n",
      " 42%|████▏     | 579/1377 [00:50<01:07, 11.89it/s]\u001B[A\n",
      " 42%|████▏     | 581/1377 [00:50<01:07, 11.84it/s]\u001B[A\n",
      " 42%|████▏     | 583/1377 [00:50<01:07, 11.79it/s]\u001B[A\n",
      " 42%|████▏     | 585/1377 [00:51<01:06, 11.95it/s]\u001B[A\n",
      " 43%|████▎     | 587/1377 [00:51<01:07, 11.65it/s]\u001B[A\n",
      " 43%|████▎     | 589/1377 [00:51<01:04, 12.18it/s]\u001B[A\n",
      " 43%|████▎     | 591/1377 [00:51<01:05, 12.00it/s]\u001B[A\n",
      " 43%|████▎     | 593/1377 [00:51<01:07, 11.64it/s]\u001B[A\n",
      " 43%|████▎     | 595/1377 [00:51<01:07, 11.66it/s]\u001B[A\n",
      " 43%|████▎     | 597/1377 [00:52<01:08, 11.45it/s]\u001B[A\n",
      " 44%|████▎     | 599/1377 [00:52<01:06, 11.68it/s]\u001B[A\n",
      " 44%|████▎     | 601/1377 [00:52<01:06, 11.68it/s]\u001B[A\n",
      " 44%|████▍     | 603/1377 [00:52<01:06, 11.63it/s]\u001B[A\n",
      " 44%|████▍     | 605/1377 [00:52<01:07, 11.38it/s]\u001B[A\n",
      " 44%|████▍     | 607/1377 [00:53<01:10, 10.86it/s]\u001B[A\n",
      " 44%|████▍     | 609/1377 [00:53<01:12, 10.56it/s]\u001B[A\n",
      " 44%|████▍     | 611/1377 [00:53<01:10, 10.82it/s]\u001B[A\n",
      " 45%|████▍     | 613/1377 [00:53<01:08, 11.08it/s]\u001B[A\n",
      " 45%|████▍     | 615/1377 [00:53<01:07, 11.30it/s]\u001B[A\n",
      " 45%|████▍     | 617/1377 [00:53<01:08, 11.14it/s]\u001B[A\n",
      " 45%|████▍     | 619/1377 [00:54<01:07, 11.25it/s]\u001B[A\n",
      " 45%|████▌     | 621/1377 [00:54<01:06, 11.40it/s]\u001B[A\n",
      " 45%|████▌     | 623/1377 [00:54<01:05, 11.45it/s]\u001B[A\n",
      " 45%|████▌     | 625/1377 [00:54<01:06, 11.35it/s]\u001B[A\n",
      " 46%|████▌     | 627/1377 [00:54<01:04, 11.61it/s]\u001B[A\n",
      " 46%|████▌     | 629/1377 [00:54<01:04, 11.57it/s]\u001B[A\n",
      " 46%|████▌     | 631/1377 [00:55<01:03, 11.67it/s]\u001B[A\n",
      " 46%|████▌     | 633/1377 [00:55<01:04, 11.62it/s]\u001B[A\n",
      " 46%|████▌     | 635/1377 [00:55<01:03, 11.62it/s]\u001B[A\n",
      " 46%|████▋     | 637/1377 [00:55<01:05, 11.30it/s]\u001B[A\n",
      " 46%|████▋     | 639/1377 [00:55<01:06, 11.10it/s]\u001B[A\n",
      " 47%|████▋     | 641/1377 [00:56<01:05, 11.29it/s]\u001B[A\n",
      " 47%|████▋     | 643/1377 [00:56<01:04, 11.42it/s]\u001B[A\n",
      " 47%|████▋     | 645/1377 [00:56<01:03, 11.45it/s]\u001B[A\n",
      " 47%|████▋     | 647/1377 [00:56<01:03, 11.57it/s]\u001B[A\n",
      " 47%|████▋     | 649/1377 [00:56<01:06, 11.01it/s]\u001B[A\n",
      " 47%|████▋     | 651/1377 [00:56<01:03, 11.48it/s]\u001B[A\n",
      " 47%|████▋     | 653/1377 [00:57<01:03, 11.36it/s]\u001B[A\n",
      " 48%|████▊     | 655/1377 [00:57<01:01, 11.70it/s]\u001B[A\n",
      " 48%|████▊     | 657/1377 [00:57<01:01, 11.69it/s]\u001B[A\n",
      " 48%|████▊     | 659/1377 [00:57<01:01, 11.65it/s]\u001B[A\n",
      " 48%|████▊     | 661/1377 [00:57<01:02, 11.38it/s]\u001B[A\n",
      " 48%|████▊     | 663/1377 [00:57<01:03, 11.27it/s]\u001B[A\n",
      " 48%|████▊     | 665/1377 [00:58<01:03, 11.29it/s]\u001B[A\n",
      " 48%|████▊     | 667/1377 [00:58<01:04, 11.07it/s]\u001B[A\n",
      " 49%|████▊     | 669/1377 [00:58<01:04, 11.00it/s]\u001B[A\n",
      " 49%|████▊     | 671/1377 [00:58<01:01, 11.40it/s]\u001B[A\n",
      " 49%|████▉     | 673/1377 [00:58<01:01, 11.46it/s]\u001B[A\n",
      " 49%|████▉     | 675/1377 [00:59<01:00, 11.52it/s]\u001B[A\n",
      " 49%|████▉     | 677/1377 [00:59<01:02, 11.22it/s]\u001B[A\n",
      " 49%|████▉     | 679/1377 [00:59<00:59, 11.68it/s]\u001B[A\n",
      " 49%|████▉     | 681/1377 [00:59<00:59, 11.67it/s]\u001B[A\n",
      " 50%|████▉     | 683/1377 [00:59<00:59, 11.64it/s]\u001B[A\n",
      " 50%|████▉     | 685/1377 [00:59<00:59, 11.62it/s]\u001B[A\n",
      " 50%|████▉     | 687/1377 [01:00<00:59, 11.63it/s]\u001B[A\n",
      " 50%|█████     | 689/1377 [01:00<00:58, 11.67it/s]\u001B[A\n",
      " 50%|█████     | 691/1377 [01:00<00:58, 11.70it/s]\u001B[A\n",
      " 50%|█████     | 693/1377 [01:00<00:58, 11.69it/s]\u001B[A\n",
      " 50%|█████     | 695/1377 [01:00<00:58, 11.76it/s]\u001B[A\n",
      " 51%|█████     | 697/1377 [01:00<01:01, 11.08it/s]\u001B[A\n",
      " 51%|█████     | 699/1377 [01:01<01:00, 11.24it/s]\u001B[A\n",
      " 51%|█████     | 701/1377 [01:01<00:57, 11.66it/s]\u001B[A\n",
      " 51%|█████     | 703/1377 [01:01<00:57, 11.70it/s]\u001B[A\n",
      " 51%|█████     | 705/1377 [01:01<00:59, 11.39it/s]\u001B[A\n",
      " 51%|█████▏    | 707/1377 [01:01<00:58, 11.47it/s]\u001B[A\n",
      " 51%|█████▏    | 709/1377 [01:01<00:57, 11.54it/s]\u001B[A\n",
      " 52%|█████▏    | 711/1377 [01:02<00:59, 11.25it/s]\u001B[A\n",
      " 52%|█████▏    | 713/1377 [01:02<00:58, 11.36it/s]\u001B[A\n",
      " 52%|█████▏    | 715/1377 [01:02<00:57, 11.48it/s]\u001B[A\n",
      " 52%|█████▏    | 717/1377 [01:02<00:55, 11.81it/s]\u001B[A\n",
      " 52%|█████▏    | 719/1377 [01:02<00:55, 11.79it/s]\u001B[A\n",
      " 52%|█████▏    | 721/1377 [01:02<00:55, 11.74it/s]\u001B[A\n",
      " 53%|█████▎    | 723/1377 [01:03<00:55, 11.69it/s]\u001B[A\n",
      " 53%|█████▎    | 725/1377 [01:03<00:58, 11.09it/s]\u001B[A\n",
      " 53%|█████▎    | 727/1377 [01:03<00:57, 11.26it/s]\u001B[A\n",
      " 53%|█████▎    | 729/1377 [01:03<00:56, 11.37it/s]\u001B[A\n",
      " 53%|█████▎    | 731/1377 [01:03<00:56, 11.47it/s]\u001B[A\n",
      " 53%|█████▎    | 733/1377 [01:04<00:56, 11.49it/s]\u001B[A\n",
      " 53%|█████▎    | 735/1377 [01:04<00:57, 11.22it/s]\u001B[A\n",
      " 54%|█████▎    | 737/1377 [01:04<00:59, 10.81it/s]\u001B[A\n",
      " 54%|█████▎    | 739/1377 [01:04<00:56, 11.35it/s]\u001B[A\n",
      " 54%|█████▍    | 741/1377 [01:04<00:57, 11.14it/s]\u001B[A\n",
      " 54%|█████▍    | 743/1377 [01:04<00:56, 11.24it/s]\u001B[A\n",
      " 54%|█████▍    | 745/1377 [01:05<00:55, 11.37it/s]\u001B[A\n",
      " 54%|█████▍    | 747/1377 [01:05<00:55, 11.40it/s]\u001B[A\n",
      " 54%|█████▍    | 749/1377 [01:05<00:56, 11.08it/s]\u001B[A\n",
      " 55%|█████▍    | 751/1377 [01:05<00:55, 11.19it/s]\u001B[A\n",
      " 55%|█████▍    | 753/1377 [01:05<00:54, 11.55it/s]\u001B[A\n",
      " 55%|█████▍    | 755/1377 [01:06<00:54, 11.35it/s]\u001B[A\n",
      " 55%|█████▍    | 757/1377 [01:06<00:53, 11.69it/s]\u001B[A\n",
      " 55%|█████▌    | 759/1377 [01:06<00:52, 11.74it/s]\u001B[A\n",
      " 55%|█████▌    | 761/1377 [01:06<00:52, 11.70it/s]\u001B[A\n",
      " 55%|█████▌    | 763/1377 [01:06<00:53, 11.38it/s]\u001B[A\n",
      " 56%|█████▌    | 765/1377 [01:06<00:55, 11.12it/s]\u001B[A\n",
      " 56%|█████▌    | 767/1377 [01:07<00:52, 11.64it/s]\u001B[A\n",
      " 56%|█████▌    | 769/1377 [01:07<00:52, 11.64it/s]\u001B[A\n",
      " 56%|█████▌    | 771/1377 [01:07<00:52, 11.61it/s]\u001B[A\n",
      " 56%|█████▌    | 773/1377 [01:07<00:50, 11.93it/s]\u001B[A\n",
      " 56%|█████▋    | 775/1377 [01:07<00:50, 11.85it/s]\u001B[A\n",
      " 56%|█████▋    | 777/1377 [01:07<00:50, 11.87it/s]\u001B[A\n",
      " 57%|█████▋    | 779/1377 [01:08<00:52, 11.49it/s]\u001B[A\n",
      " 57%|█████▋    | 781/1377 [01:08<00:51, 11.47it/s]\u001B[A\n",
      " 57%|█████▋    | 783/1377 [01:08<00:51, 11.60it/s]\u001B[A\n",
      " 57%|█████▋    | 785/1377 [01:08<00:51, 11.60it/s]\u001B[A\n",
      " 57%|█████▋    | 787/1377 [01:08<00:50, 11.60it/s]\u001B[A\n",
      " 57%|█████▋    | 789/1377 [01:08<00:50, 11.57it/s]\u001B[A\n",
      " 57%|█████▋    | 791/1377 [01:09<00:50, 11.55it/s]\u001B[A\n",
      " 58%|█████▊    | 793/1377 [01:09<00:50, 11.55it/s]\u001B[A\n",
      " 58%|█████▊    | 795/1377 [01:09<00:50, 11.63it/s]\u001B[A\n",
      " 58%|█████▊    | 797/1377 [01:09<00:49, 11.67it/s]\u001B[A\n",
      " 58%|█████▊    | 799/1377 [01:09<00:50, 11.41it/s]\u001B[A\n",
      " 58%|█████▊    | 801/1377 [01:09<00:50, 11.44it/s]\u001B[A\n",
      " 58%|█████▊    | 803/1377 [01:10<00:51, 11.23it/s]\u001B[A\n",
      " 58%|█████▊    | 805/1377 [01:10<00:51, 11.11it/s]\u001B[A\n",
      " 59%|█████▊    | 807/1377 [01:10<00:51, 10.99it/s]\u001B[A\n",
      " 59%|█████▉    | 809/1377 [01:10<00:50, 11.15it/s]\u001B[A\n",
      " 59%|█████▉    | 811/1377 [01:10<00:50, 11.29it/s]\u001B[A\n",
      " 59%|█████▉    | 813/1377 [01:11<00:49, 11.44it/s]\u001B[A\n",
      " 59%|█████▉    | 815/1377 [01:11<00:48, 11.55it/s]\u001B[A\n",
      " 59%|█████▉    | 817/1377 [01:11<00:48, 11.50it/s]\u001B[A\n",
      " 59%|█████▉    | 819/1377 [01:11<00:48, 11.58it/s]\u001B[A\n",
      " 60%|█████▉    | 821/1377 [01:11<00:48, 11.35it/s]\u001B[A\n",
      " 60%|█████▉    | 823/1377 [01:11<00:49, 11.24it/s]\u001B[A\n",
      " 60%|█████▉    | 825/1377 [01:12<00:49, 11.23it/s]\u001B[A\n",
      " 60%|██████    | 827/1377 [01:12<00:51, 10.67it/s]\u001B[A\n",
      " 60%|██████    | 829/1377 [01:12<00:50, 10.88it/s]\u001B[A\n",
      " 60%|██████    | 831/1377 [01:12<00:48, 11.30it/s]\u001B[A\n",
      " 60%|██████    | 833/1377 [01:12<00:48, 11.13it/s]\u001B[A\n",
      " 61%|██████    | 835/1377 [01:13<00:48, 11.26it/s]\u001B[A\n",
      " 61%|██████    | 837/1377 [01:13<00:47, 11.41it/s]\u001B[A\n",
      " 61%|██████    | 839/1377 [01:13<00:45, 11.79it/s]\u001B[A\n",
      " 61%|██████    | 841/1377 [01:13<00:46, 11.50it/s]\u001B[A\n",
      " 61%|██████    | 843/1377 [01:13<00:46, 11.46it/s]\u001B[A\n",
      " 61%|██████▏   | 845/1377 [01:13<00:45, 11.61it/s]\u001B[A\n",
      " 62%|██████▏   | 847/1377 [01:14<00:46, 11.51it/s]\u001B[A\n",
      " 62%|██████▏   | 849/1377 [01:14<00:45, 11.59it/s]\u001B[A\n",
      " 62%|██████▏   | 851/1377 [01:14<00:44, 11.87it/s]\u001B[A\n",
      " 62%|██████▏   | 853/1377 [01:14<00:45, 11.45it/s]\u001B[A\n",
      " 62%|██████▏   | 855/1377 [01:14<00:45, 11.50it/s]\u001B[A\n",
      " 62%|██████▏   | 857/1377 [01:14<00:45, 11.52it/s]\u001B[A\n",
      " 62%|██████▏   | 859/1377 [01:15<00:44, 11.56it/s]\u001B[A\n",
      " 63%|██████▎   | 861/1377 [01:15<00:44, 11.54it/s]\u001B[A\n",
      " 63%|██████▎   | 863/1377 [01:15<00:44, 11.54it/s]\u001B[A\n",
      " 63%|██████▎   | 865/1377 [01:15<00:45, 11.28it/s]\u001B[A\n",
      " 63%|██████▎   | 867/1377 [01:15<00:44, 11.46it/s]\u001B[A\n",
      " 63%|██████▎   | 869/1377 [01:15<00:44, 11.48it/s]\u001B[A\n",
      " 63%|██████▎   | 871/1377 [01:16<00:43, 11.53it/s]\u001B[A\n",
      " 63%|██████▎   | 873/1377 [01:16<00:43, 11.55it/s]\u001B[A\n",
      " 64%|██████▎   | 875/1377 [01:16<00:43, 11.63it/s]\u001B[A\n",
      " 64%|██████▎   | 877/1377 [01:16<00:44, 11.31it/s]\u001B[A\n",
      " 64%|██████▍   | 879/1377 [01:16<00:42, 11.69it/s]\u001B[A\n",
      " 64%|██████▍   | 881/1377 [01:17<00:43, 11.40it/s]\u001B[A\n",
      " 64%|██████▍   | 883/1377 [01:17<00:42, 11.52it/s]\u001B[A\n",
      " 64%|██████▍   | 885/1377 [01:17<00:42, 11.51it/s]\u001B[A\n",
      " 64%|██████▍   | 887/1377 [01:17<00:42, 11.53it/s]\u001B[A\n",
      " 65%|██████▍   | 889/1377 [01:17<00:43, 11.31it/s]\u001B[A\n",
      " 65%|██████▍   | 891/1377 [01:17<00:41, 11.69it/s]\u001B[A\n",
      " 65%|██████▍   | 893/1377 [01:18<00:43, 11.25it/s]\u001B[A\n",
      " 65%|██████▍   | 895/1377 [01:18<00:40, 11.88it/s]\u001B[A\n",
      " 65%|██████▌   | 897/1377 [01:18<00:40, 11.83it/s]\u001B[A\n",
      " 65%|██████▌   | 899/1377 [01:18<00:39, 12.05it/s]\u001B[A\n",
      " 65%|██████▌   | 901/1377 [01:18<00:40, 11.66it/s]\u001B[A\n",
      " 66%|██████▌   | 903/1377 [01:18<00:40, 11.66it/s]\u001B[A\n",
      " 66%|██████▌   | 905/1377 [01:19<00:41, 11.34it/s]\u001B[A\n",
      " 66%|██████▌   | 907/1377 [01:19<00:41, 11.44it/s]\u001B[A\n",
      " 66%|██████▌   | 909/1377 [01:19<00:41, 11.38it/s]\u001B[A\n",
      " 66%|██████▌   | 911/1377 [01:19<00:40, 11.48it/s]\u001B[A\n",
      " 66%|██████▋   | 913/1377 [01:19<00:41, 11.25it/s]\u001B[A\n",
      " 66%|██████▋   | 915/1377 [01:19<00:40, 11.44it/s]\u001B[A\n",
      " 67%|██████▋   | 917/1377 [01:20<00:41, 11.21it/s]\u001B[A\n",
      " 67%|██████▋   | 919/1377 [01:20<00:39, 11.64it/s]\u001B[A\n",
      " 67%|██████▋   | 921/1377 [01:20<00:39, 11.66it/s]\u001B[A\n",
      " 67%|██████▋   | 923/1377 [01:20<00:39, 11.60it/s]\u001B[A\n",
      " 67%|██████▋   | 925/1377 [01:20<00:39, 11.58it/s]\u001B[A\n",
      " 67%|██████▋   | 927/1377 [01:20<00:38, 11.64it/s]\u001B[A\n",
      " 67%|██████▋   | 929/1377 [01:21<00:38, 11.62it/s]\u001B[A\n",
      " 68%|██████▊   | 931/1377 [01:21<00:38, 11.64it/s]\u001B[A\n",
      " 68%|██████▊   | 933/1377 [01:21<00:38, 11.65it/s]\u001B[A\n",
      " 68%|██████▊   | 935/1377 [01:21<00:38, 11.62it/s]\u001B[A\n",
      " 68%|██████▊   | 937/1377 [01:21<00:38, 11.57it/s]\u001B[A\n",
      " 68%|██████▊   | 939/1377 [01:22<00:38, 11.30it/s]\u001B[A\n",
      " 68%|██████▊   | 941/1377 [01:22<00:39, 10.94it/s]\u001B[A\n",
      " 68%|██████▊   | 943/1377 [01:22<00:39, 10.94it/s]\u001B[A\n",
      " 69%|██████▊   | 945/1377 [01:22<00:39, 10.90it/s]\u001B[A\n",
      " 69%|██████▉   | 947/1377 [01:22<00:38, 11.07it/s]\u001B[A\n",
      " 69%|██████▉   | 949/1377 [01:22<00:38, 11.26it/s]\u001B[A\n",
      " 69%|██████▉   | 951/1377 [01:23<00:38, 11.08it/s]\u001B[A\n",
      " 69%|██████▉   | 953/1377 [01:23<00:39, 10.66it/s]\u001B[A\n",
      " 69%|██████▉   | 955/1377 [01:23<00:39, 10.68it/s]\u001B[A\n",
      " 69%|██████▉   | 957/1377 [01:23<00:39, 10.67it/s]\u001B[A\n",
      " 70%|██████▉   | 959/1377 [01:23<00:38, 10.93it/s]\u001B[A\n",
      " 70%|██████▉   | 961/1377 [01:24<00:37, 11.08it/s]\u001B[A\n",
      " 70%|██████▉   | 963/1377 [01:24<00:37, 11.18it/s]\u001B[A\n",
      " 70%|███████   | 965/1377 [01:24<00:37, 11.04it/s]\u001B[A\n",
      " 70%|███████   | 967/1377 [01:24<00:36, 11.17it/s]\u001B[A\n",
      " 70%|███████   | 969/1377 [01:24<00:36, 11.16it/s]\u001B[A\n",
      " 71%|███████   | 971/1377 [01:24<00:35, 11.47it/s]\u001B[A\n",
      " 71%|███████   | 973/1377 [01:25<00:36, 11.19it/s]\u001B[A\n",
      " 71%|███████   | 975/1377 [01:25<00:35, 11.32it/s]\u001B[A\n",
      " 71%|███████   | 977/1377 [01:25<00:36, 11.10it/s]\u001B[A\n",
      " 71%|███████   | 979/1377 [01:25<00:36, 10.96it/s]\u001B[A\n",
      " 71%|███████   | 981/1377 [01:25<00:36, 10.93it/s]\u001B[A\n",
      " 71%|███████▏  | 983/1377 [01:26<00:34, 11.37it/s]\u001B[A\n",
      " 72%|███████▏  | 985/1377 [01:26<00:34, 11.23it/s]\u001B[A\n",
      " 72%|███████▏  | 987/1377 [01:26<00:33, 11.54it/s]\u001B[A\n",
      " 72%|███████▏  | 989/1377 [01:26<00:32, 11.85it/s]\u001B[A\n",
      " 72%|███████▏  | 991/1377 [01:26<00:33, 11.51it/s]\u001B[A\n",
      " 72%|███████▏  | 993/1377 [01:26<00:32, 11.83it/s]\u001B[A\n",
      " 72%|███████▏  | 995/1377 [01:27<00:32, 11.81it/s]\u001B[A\n",
      " 72%|███████▏  | 997/1377 [01:27<00:32, 11.79it/s]\u001B[A\n",
      " 73%|███████▎  | 999/1377 [01:27<00:32, 11.72it/s]\u001B[A\n",
      " 73%|███████▎  | 1001/1377 [01:27<00:32, 11.67it/s]\u001B[A\n",
      " 73%|███████▎  | 1003/1377 [01:27<00:32, 11.63it/s]\u001B[A\n",
      " 73%|███████▎  | 1005/1377 [01:27<00:31, 11.67it/s]\u001B[A\n",
      " 73%|███████▎  | 1007/1377 [01:28<00:32, 11.56it/s]\u001B[A\n",
      " 73%|███████▎  | 1009/1377 [01:28<00:32, 11.33it/s]\u001B[A\n",
      " 73%|███████▎  | 1011/1377 [01:28<00:32, 11.38it/s]\u001B[A\n",
      " 74%|███████▎  | 1013/1377 [01:28<00:31, 11.48it/s]\u001B[A\n",
      " 74%|███████▎  | 1015/1377 [01:28<00:31, 11.59it/s]\u001B[A\n",
      " 74%|███████▍  | 1017/1377 [01:28<00:31, 11.57it/s]\u001B[A\n",
      " 74%|███████▍  | 1019/1377 [01:29<00:30, 11.61it/s]\u001B[A\n",
      " 74%|███████▍  | 1021/1377 [01:29<00:31, 11.33it/s]\u001B[A\n",
      " 74%|███████▍  | 1023/1377 [01:29<00:30, 11.76it/s]\u001B[A\n",
      " 74%|███████▍  | 1025/1377 [01:29<00:30, 11.36it/s]\u001B[A\n",
      " 75%|███████▍  | 1027/1377 [01:29<00:29, 11.77it/s]\u001B[A\n",
      " 75%|███████▍  | 1029/1377 [01:29<00:29, 11.75it/s]\u001B[A\n",
      " 75%|███████▍  | 1031/1377 [01:30<00:29, 11.69it/s]\u001B[A\n",
      " 75%|███████▌  | 1033/1377 [01:30<00:30, 11.36it/s]\u001B[A\n",
      " 75%|███████▌  | 1035/1377 [01:30<00:30, 11.20it/s]\u001B[A\n",
      " 75%|███████▌  | 1037/1377 [01:30<00:30, 11.30it/s]\u001B[A\n",
      " 75%|███████▌  | 1039/1377 [01:30<00:30, 11.05it/s]\u001B[A\n",
      " 76%|███████▌  | 1041/1377 [01:31<00:30, 10.98it/s]\u001B[A\n",
      " 76%|███████▌  | 1043/1377 [01:31<00:30, 10.86it/s]\u001B[A\n",
      " 76%|███████▌  | 1045/1377 [01:31<00:29, 11.07it/s]\u001B[A\n",
      " 76%|███████▌  | 1047/1377 [01:31<00:29, 11.24it/s]\u001B[A\n",
      " 76%|███████▌  | 1049/1377 [01:31<00:29, 11.06it/s]\u001B[A\n",
      " 76%|███████▋  | 1051/1377 [01:31<00:29, 11.00it/s]\u001B[A\n",
      " 76%|███████▋  | 1053/1377 [01:32<00:27, 11.77it/s]\u001B[A\n",
      " 77%|███████▋  | 1055/1377 [01:32<00:28, 11.39it/s]\u001B[A\n",
      " 77%|███████▋  | 1057/1377 [01:32<00:27, 11.49it/s]\u001B[A\n",
      " 77%|███████▋  | 1059/1377 [01:32<00:27, 11.51it/s]\u001B[A\n",
      " 77%|███████▋  | 1061/1377 [01:32<00:27, 11.48it/s]\u001B[A\n",
      " 77%|███████▋  | 1063/1377 [01:32<00:27, 11.58it/s]\u001B[A\n",
      " 77%|███████▋  | 1065/1377 [01:33<00:26, 11.57it/s]\u001B[A\n",
      " 77%|███████▋  | 1067/1377 [01:33<00:26, 11.69it/s]\u001B[A\n",
      " 78%|███████▊  | 1069/1377 [01:33<00:26, 11.48it/s]\u001B[A\n",
      " 78%|███████▊  | 1071/1377 [01:33<00:26, 11.50it/s]\u001B[A\n",
      " 78%|███████▊  | 1073/1377 [01:33<00:27, 11.24it/s]\u001B[A\n",
      " 78%|███████▊  | 1075/1377 [01:34<00:25, 11.65it/s]\u001B[A\n",
      " 78%|███████▊  | 1077/1377 [01:34<00:27, 11.09it/s]\u001B[A\n",
      " 78%|███████▊  | 1079/1377 [01:34<00:26, 11.22it/s]\u001B[A\n",
      " 79%|███████▊  | 1081/1377 [01:34<00:26, 11.22it/s]\u001B[A\n",
      " 79%|███████▊  | 1083/1377 [01:34<00:26, 11.19it/s]\u001B[A\n",
      " 79%|███████▉  | 1085/1377 [01:34<00:25, 11.38it/s]\u001B[A\n",
      " 79%|███████▉  | 1087/1377 [01:35<00:24, 11.61it/s]\u001B[A\n",
      " 79%|███████▉  | 1089/1377 [01:35<00:24, 11.67it/s]\u001B[A\n",
      " 79%|███████▉  | 1091/1377 [01:35<00:23, 11.97it/s]\u001B[A\n",
      " 79%|███████▉  | 1093/1377 [01:35<00:24, 11.56it/s]\u001B[A\n",
      " 80%|███████▉  | 1095/1377 [01:35<00:24, 11.57it/s]\u001B[A\n",
      " 80%|███████▉  | 1097/1377 [01:35<00:24, 11.56it/s]\u001B[A\n",
      " 80%|███████▉  | 1099/1377 [01:36<00:24, 11.45it/s]\u001B[A\n",
      " 80%|███████▉  | 1101/1377 [01:36<00:23, 11.62it/s]\u001B[A\n",
      " 80%|████████  | 1103/1377 [01:36<00:24, 11.31it/s]\u001B[A\n",
      " 80%|████████  | 1105/1377 [01:36<00:23, 11.39it/s]\u001B[A\n",
      " 80%|████████  | 1107/1377 [01:36<00:24, 11.21it/s]\u001B[A\n",
      " 81%|████████  | 1109/1377 [01:37<00:23, 11.32it/s]\u001B[A\n",
      " 81%|████████  | 1111/1377 [01:37<00:23, 11.52it/s]\u001B[A\n",
      " 81%|████████  | 1113/1377 [01:37<00:23, 11.39it/s]\u001B[A\n",
      " 81%|████████  | 1115/1377 [01:37<00:22, 11.79it/s]\u001B[A\n",
      " 81%|████████  | 1117/1377 [01:37<00:22, 11.40it/s]\u001B[A\n",
      " 81%|████████▏ | 1119/1377 [01:37<00:22, 11.44it/s]\u001B[A\n",
      " 81%|████████▏ | 1121/1377 [01:38<00:22, 11.49it/s]\u001B[A\n",
      " 82%|████████▏ | 1123/1377 [01:38<00:22, 11.26it/s]\u001B[A\n",
      " 82%|████████▏ | 1125/1377 [01:38<00:21, 11.67it/s]\u001B[A\n",
      " 82%|████████▏ | 1127/1377 [01:38<00:22, 11.36it/s]\u001B[A\n",
      " 82%|████████▏ | 1129/1377 [01:38<00:22, 11.23it/s]\u001B[A\n",
      " 82%|████████▏ | 1131/1377 [01:38<00:21, 11.33it/s]\u001B[A\n",
      " 82%|████████▏ | 1133/1377 [01:39<00:21, 11.46it/s]\u001B[A\n",
      " 82%|████████▏ | 1135/1377 [01:39<00:20, 11.60it/s]\u001B[A\n",
      " 83%|████████▎ | 1137/1377 [01:39<00:20, 11.48it/s]\u001B[A\n",
      " 83%|████████▎ | 1139/1377 [01:39<00:20, 11.66it/s]\u001B[A\n",
      " 83%|████████▎ | 1141/1377 [01:39<00:21, 11.07it/s]\u001B[A\n",
      " 83%|████████▎ | 1143/1377 [01:39<00:20, 11.50it/s]\u001B[A\n",
      " 83%|████████▎ | 1145/1377 [01:40<00:20, 11.27it/s]\u001B[A\n",
      " 83%|████████▎ | 1147/1377 [01:40<00:20, 11.40it/s]\u001B[A\n",
      " 83%|████████▎ | 1149/1377 [01:40<00:19, 11.79it/s]\u001B[A\n",
      " 84%|████████▎ | 1151/1377 [01:40<00:19, 11.73it/s]\u001B[A\n",
      " 84%|████████▎ | 1153/1377 [01:40<00:18, 12.02it/s]\u001B[A\n",
      " 84%|████████▍ | 1155/1377 [01:40<00:18, 11.89it/s]\u001B[A\n",
      " 84%|████████▍ | 1157/1377 [01:41<00:18, 11.75it/s]\u001B[A\n",
      " 84%|████████▍ | 1159/1377 [01:41<00:18, 11.70it/s]\u001B[A\n",
      " 84%|████████▍ | 1161/1377 [01:41<00:18, 11.52it/s]\u001B[A\n",
      " 84%|████████▍ | 1163/1377 [01:41<00:18, 11.46it/s]\u001B[A\n",
      " 85%|████████▍ | 1165/1377 [01:41<00:18, 11.51it/s]\u001B[A\n",
      " 85%|████████▍ | 1167/1377 [01:42<00:18, 11.62it/s]\u001B[A\n",
      " 85%|████████▍ | 1169/1377 [01:42<00:18, 11.32it/s]\u001B[A\n",
      " 85%|████████▌ | 1171/1377 [01:42<00:18, 11.10it/s]\u001B[A\n",
      " 85%|████████▌ | 1173/1377 [01:42<00:18, 11.29it/s]\u001B[A\n",
      " 85%|████████▌ | 1175/1377 [01:42<00:17, 11.36it/s]\u001B[A\n",
      " 85%|████████▌ | 1177/1377 [01:42<00:17, 11.49it/s]\u001B[A\n",
      " 86%|████████▌ | 1179/1377 [01:43<00:17, 11.46it/s]\u001B[A\n",
      " 86%|████████▌ | 1181/1377 [01:43<00:16, 11.64it/s]\u001B[A\n",
      " 86%|████████▌ | 1183/1377 [01:43<00:16, 11.90it/s]\u001B[A\n",
      " 86%|████████▌ | 1185/1377 [01:43<00:15, 12.14it/s]\u001B[A\n",
      " 86%|████████▌ | 1187/1377 [01:43<00:15, 11.98it/s]\u001B[A\n",
      " 86%|████████▋ | 1189/1377 [01:43<00:15, 11.88it/s]\u001B[A\n",
      " 86%|████████▋ | 1191/1377 [01:44<00:15, 11.83it/s]\u001B[A\n",
      " 87%|████████▋ | 1193/1377 [01:44<00:16, 11.45it/s]\u001B[A\n",
      " 87%|████████▋ | 1195/1377 [01:44<00:16, 11.24it/s]\u001B[A\n",
      " 87%|████████▋ | 1197/1377 [01:44<00:16, 11.07it/s]\u001B[A\n",
      " 87%|████████▋ | 1199/1377 [01:44<00:15, 11.52it/s]\u001B[A\n",
      " 87%|████████▋ | 1201/1377 [01:44<00:15, 11.60it/s]\u001B[A\n",
      " 87%|████████▋ | 1203/1377 [01:45<00:15, 10.90it/s]\u001B[A\n",
      " 88%|████████▊ | 1205/1377 [01:45<00:15, 11.24it/s]\u001B[A\n",
      " 88%|████████▊ | 1207/1377 [01:45<00:14, 11.62it/s]\u001B[A\n",
      " 88%|████████▊ | 1209/1377 [01:45<00:14, 11.63it/s]\u001B[A\n",
      " 88%|████████▊ | 1211/1377 [01:45<00:14, 11.65it/s]\u001B[A\n",
      " 88%|████████▊ | 1213/1377 [01:46<00:14, 11.64it/s]\u001B[A\n",
      " 88%|████████▊ | 1215/1377 [01:46<00:14, 11.44it/s]\u001B[A\n",
      " 88%|████████▊ | 1217/1377 [01:46<00:13, 11.70it/s]\u001B[A\n",
      " 89%|████████▊ | 1219/1377 [01:46<00:13, 11.42it/s]\u001B[A\n",
      " 89%|████████▊ | 1221/1377 [01:46<00:13, 11.51it/s]\u001B[A\n",
      " 89%|████████▉ | 1223/1377 [01:46<00:13, 11.54it/s]\u001B[A\n",
      " 89%|████████▉ | 1225/1377 [01:47<00:13, 11.58it/s]\u001B[A\n",
      " 89%|████████▉ | 1227/1377 [01:47<00:12, 11.61it/s]\u001B[A\n",
      " 89%|████████▉ | 1229/1377 [01:47<00:12, 11.56it/s]\u001B[A\n",
      " 89%|████████▉ | 1231/1377 [01:47<00:12, 11.62it/s]\u001B[A\n",
      " 90%|████████▉ | 1233/1377 [01:47<00:12, 11.63it/s]\u001B[A\n",
      " 90%|████████▉ | 1235/1377 [01:47<00:12, 11.62it/s]\u001B[A\n",
      " 90%|████████▉ | 1237/1377 [01:48<00:12, 11.65it/s]\u001B[A\n",
      " 90%|████████▉ | 1239/1377 [01:48<00:11, 11.66it/s]\u001B[A\n",
      " 90%|█████████ | 1241/1377 [01:48<00:11, 11.48it/s]\u001B[A\n",
      " 90%|█████████ | 1243/1377 [01:48<00:11, 12.02it/s]\u001B[A\n",
      " 90%|█████████ | 1245/1377 [01:48<00:11, 11.90it/s]\u001B[A\n",
      " 91%|█████████ | 1247/1377 [01:48<00:10, 11.87it/s]\u001B[A\n",
      " 91%|█████████ | 1249/1377 [01:49<00:10, 11.69it/s]\u001B[A\n",
      " 91%|█████████ | 1251/1377 [01:49<00:10, 11.82it/s]\u001B[A\n",
      " 91%|█████████ | 1253/1377 [01:49<00:10, 11.46it/s]\u001B[A\n",
      " 91%|█████████ | 1255/1377 [01:49<00:10, 11.52it/s]\u001B[A\n",
      " 91%|█████████▏| 1257/1377 [01:49<00:10, 11.54it/s]\u001B[A\n",
      " 91%|█████████▏| 1259/1377 [01:49<00:10, 11.59it/s]\u001B[A\n",
      " 92%|█████████▏| 1261/1377 [01:50<00:09, 11.84it/s]\u001B[A\n",
      " 92%|█████████▏| 1263/1377 [01:50<00:09, 11.81it/s]\u001B[A\n",
      " 92%|█████████▏| 1265/1377 [01:50<00:09, 12.04it/s]\u001B[A\n",
      " 92%|█████████▏| 1267/1377 [01:50<00:09, 11.72it/s]\u001B[A\n",
      " 92%|█████████▏| 1269/1377 [01:50<00:09, 11.59it/s]\u001B[A\n",
      " 92%|█████████▏| 1271/1377 [01:51<00:09, 11.58it/s]\u001B[A\n",
      " 92%|█████████▏| 1273/1377 [01:51<00:09, 11.37it/s]\u001B[A\n",
      " 93%|█████████▎| 1275/1377 [01:51<00:08, 11.44it/s]\u001B[A\n",
      " 93%|█████████▎| 1277/1377 [01:51<00:08, 11.71it/s]\u001B[A\n",
      " 93%|█████████▎| 1279/1377 [01:51<00:08, 11.72it/s]\u001B[A\n",
      " 93%|█████████▎| 1281/1377 [01:51<00:08, 11.67it/s]\u001B[A\n",
      " 93%|█████████▎| 1283/1377 [01:52<00:08, 11.10it/s]\u001B[A\n",
      " 93%|█████████▎| 1285/1377 [01:52<00:08, 11.29it/s]\u001B[A\n",
      " 93%|█████████▎| 1287/1377 [01:52<00:07, 11.71it/s]\u001B[A\n",
      " 94%|█████████▎| 1289/1377 [01:52<00:07, 11.63it/s]\u001B[A\n",
      " 94%|█████████▍| 1291/1377 [01:52<00:07, 11.37it/s]\u001B[A\n",
      " 94%|█████████▍| 1293/1377 [01:52<00:07, 11.49it/s]\u001B[A\n",
      " 94%|█████████▍| 1295/1377 [01:53<00:06, 11.77it/s]\u001B[A\n",
      " 94%|█████████▍| 1297/1377 [01:53<00:06, 11.71it/s]\u001B[A\n",
      " 94%|█████████▍| 1299/1377 [01:53<00:06, 11.49it/s]\u001B[A\n",
      " 94%|█████████▍| 1301/1377 [01:53<00:06, 11.79it/s]\u001B[A\n",
      " 95%|█████████▍| 1303/1377 [01:53<00:06, 11.79it/s]\u001B[A\n",
      " 95%|█████████▍| 1305/1377 [01:53<00:06, 11.71it/s]\u001B[A\n",
      " 95%|█████████▍| 1307/1377 [01:54<00:05, 11.71it/s]\u001B[A\n",
      " 95%|█████████▌| 1309/1377 [01:54<00:06, 11.33it/s]\u001B[A\n",
      " 95%|█████████▌| 1311/1377 [01:54<00:05, 11.08it/s]\u001B[A\n",
      " 95%|█████████▌| 1313/1377 [01:54<00:05, 10.99it/s]\u001B[A\n",
      " 95%|█████████▌| 1315/1377 [01:54<00:05, 11.18it/s]\u001B[A\n",
      " 96%|█████████▌| 1317/1377 [01:55<00:05, 11.28it/s]\u001B[A\n",
      " 96%|█████████▌| 1319/1377 [01:55<00:05, 11.43it/s]\u001B[A\n",
      " 96%|█████████▌| 1321/1377 [01:55<00:04, 11.44it/s]\u001B[A\n",
      " 96%|█████████▌| 1323/1377 [01:55<00:04, 11.15it/s]\u001B[A\n",
      " 96%|█████████▌| 1325/1377 [01:55<00:04, 11.07it/s]\u001B[A\n",
      " 96%|█████████▋| 1327/1377 [01:55<00:04, 11.32it/s]\u001B[A\n",
      " 97%|█████████▋| 1329/1377 [01:56<00:04, 11.64it/s]\u001B[A\n",
      " 97%|█████████▋| 1331/1377 [01:56<00:03, 11.70it/s]\u001B[A\n",
      " 97%|█████████▋| 1333/1377 [01:56<00:03, 11.68it/s]\u001B[A\n",
      " 97%|█████████▋| 1335/1377 [01:56<00:03, 11.63it/s]\u001B[A\n",
      " 97%|█████████▋| 1337/1377 [01:56<00:03, 11.35it/s]\u001B[A\n",
      " 97%|█████████▋| 1339/1377 [01:56<00:03, 11.40it/s]\u001B[A\n",
      " 97%|█████████▋| 1341/1377 [01:57<00:03, 11.50it/s]\u001B[A\n",
      " 98%|█████████▊| 1343/1377 [01:57<00:03, 11.27it/s]\u001B[A\n",
      " 98%|█████████▊| 1345/1377 [01:57<00:02, 11.36it/s]\u001B[A\n",
      " 98%|█████████▊| 1347/1377 [01:57<00:02, 11.44it/s]\u001B[A\n",
      " 98%|█████████▊| 1349/1377 [01:57<00:02, 11.23it/s]\u001B[A\n",
      " 98%|█████████▊| 1351/1377 [01:57<00:02, 11.35it/s]\u001B[A\n",
      " 98%|█████████▊| 1353/1377 [01:58<00:02, 11.45it/s]\u001B[A\n",
      " 98%|█████████▊| 1355/1377 [01:58<00:01, 11.26it/s]\u001B[A\n",
      " 99%|█████████▊| 1357/1377 [01:58<00:01, 11.27it/s]\u001B[A\n",
      " 99%|█████████▊| 1359/1377 [01:58<00:01, 11.74it/s]\u001B[A\n",
      " 99%|█████████▉| 1361/1377 [01:58<00:01, 11.55it/s]\u001B[A\n",
      " 99%|█████████▉| 1363/1377 [01:59<00:01, 11.43it/s]\u001B[A\n",
      " 99%|█████████▉| 1365/1377 [01:59<00:01, 11.45it/s]\u001B[A\n",
      " 99%|█████████▉| 1367/1377 [01:59<00:00, 11.49it/s]\u001B[A\n",
      " 99%|█████████▉| 1369/1377 [01:59<00:00, 11.51it/s]\u001B[A\n",
      "100%|█████████▉| 1371/1377 [01:59<00:00, 11.58it/s]\u001B[A\n",
      "100%|█████████▉| 1373/1377 [01:59<00:00, 11.62it/s]\u001B[A\n",
      "100%|█████████▉| 1375/1377 [02:00<00:00, 11.63it/s]\u001B[A\n",
      "100%|██████████| 1377/1377 [02:00<00:00, 11.94it/s]\u001B[A"
     ]
    }
   ],
   "source": [
    "\n",
    "\n",
    "model.train()\n",
    "for epoch in range(num_epoch):\n",
    "    for batch in train_dataloader:\n",
    "        batch = {k: v.to(device) for k, v in batch.items()}\n",
    "        outputs = model(**batch)\n",
    "        loss = outputs.loss\n",
    "        loss.backward()\n",
    "        \n",
    "        optimizer.step()\n",
    "        lr_schedule.step()\n",
    "        optimizer.zero_grad()\n",
    "        progress.update(1)"
   ],
   "metadata": {
    "collapsed": false,
    "ExecuteTime": {
     "end_time": "2024-02-17T15:57:12.621102600Z",
     "start_time": "2024-02-17T15:55:12.383111900Z"
    }
   },
   "id": "dd4f532c691122fb",
   "execution_count": 42
  },
  {
   "cell_type": "code",
   "outputs": [
    {
     "name": "stderr",
     "output_type": "stream",
     "text": [
      "C:\\Users\\Rooz\\anaconda3\\envs\\py_torch\\Lib\\site-packages\\datasets\\load.py:753: FutureWarning: The repository for glue contains custom code which must be executed to correctly load the metric. You can inspect the repository content at https://raw.githubusercontent.com/huggingface/datasets/2.17.0/metrics/glue/glue.py\n",
      "You can avoid this message in future by passing the argument `trust_remote_code=True`.\n",
      "Passing `trust_remote_code=True` will be mandatory to load this metric from the next major release of `datasets`.\n",
      "  warnings.warn(\n"
     ]
    },
    {
     "data": {
      "text/plain": "{'accuracy': 0.8602941176470589, 'f1': 0.9028960817717206}"
     },
     "execution_count": 45,
     "metadata": {},
     "output_type": "execute_result"
    }
   ],
   "source": [
    "from datasets import load_metric\n",
    "metric = load_metric('glue', 'mrpc')\n",
    "model.eval()\n",
    "for batch in eval_dataloader:\n",
    "    batch = {k: v.to(device) for k, v in batch.items()}\n",
    "    with torch.no_grad():\n",
    "        outputs = model(**batch)\n",
    "    \n",
    "    logits = outputs.logits\n",
    "    predictions = torch.argmax(logits, dim=-1)\n",
    "    metric.add_batch(predictions=predictions, references=batch['labels'])\n",
    "\n",
    "metric.compute()"
   ],
   "metadata": {
    "collapsed": false,
    "ExecuteTime": {
     "end_time": "2024-02-17T16:07:08.074184800Z",
     "start_time": "2024-02-17T16:07:03.972577Z"
    }
   },
   "id": "a1fad2f18100fd6d",
   "execution_count": 45
  },
  {
   "cell_type": "markdown",
   "source": [
    "# with accelator"
   ],
   "metadata": {
    "collapsed": false
   },
   "id": "66003e04f6eb71fd"
  },
  {
   "cell_type": "code",
   "outputs": [
    {
     "name": "stderr",
     "output_type": "stream",
     "text": [
      "100%|█████████▉| 1376/1377 [02:18<00:00, 10.75it/s]"
     ]
    }
   ],
   "source": [
    "from accelerate import Accelerator\n",
    "\n",
    "accelerator = Accelerator()\n",
    "\n",
    "model, optimizer, train_dataloader = accelerator.prepare(\n",
    "    model, optimizer, train_dataloader\n",
    ")\n",
    "\n",
    "model.train()\n",
    "for epoch in range(num_epoch):\n",
    "    for batch in train_dataloader:\n",
    "        outputs = model(**batch)\n",
    "        loss = outputs.loss\n",
    "        accelerator.backward(loss)\n",
    "        \n",
    "        optimizer.step()\n",
    "        lr_schedule.step()\n",
    "        optimizer.zero_grad()\n",
    "        progress.update(1)"
   ],
   "metadata": {
    "collapsed": false,
    "ExecuteTime": {
     "end_time": "2024-02-18T06:26:17.630501700Z",
     "start_time": "2024-02-18T06:24:06.307619700Z"
    }
   },
   "id": "dd08cb1b41424ee5",
   "execution_count": 25
  },
  {
   "cell_type": "code",
   "outputs": [
    {
     "name": "stderr",
     "output_type": "stream",
     "text": [
      "C:\\Users\\Rooz\\AppData\\Local\\Temp\\ipykernel_12788\\1713910634.py:2: FutureWarning: load_metric is deprecated and will be removed in the next major version of datasets. Use 'evaluate.load' instead, from the new library 🤗 Evaluate: https://huggingface.co/docs/evaluate\n",
      "  metric = load_metric('glue', 'mrpc')\n",
      "C:\\Users\\Rooz\\anaconda3\\envs\\py_torch\\Lib\\site-packages\\datasets\\load.py:753: FutureWarning: The repository for glue contains custom code which must be executed to correctly load the metric. You can inspect the repository content at https://raw.githubusercontent.com/huggingface/datasets/2.17.0/metrics/glue/glue.py\n",
      "You can avoid this message in future by passing the argument `trust_remote_code=True`.\n",
      "Passing `trust_remote_code=True` will be mandatory to load this metric from the next major release of `datasets`.\n",
      "  warnings.warn(\n"
     ]
    },
    {
     "data": {
      "text/plain": "{'accuracy': 0.8333333333333334, 'f1': 0.8862876254180602}"
     },
     "execution_count": 26,
     "metadata": {},
     "output_type": "execute_result"
    }
   ],
   "source": [
    "from datasets import load_metric\n",
    "metric = load_metric('glue', 'mrpc')\n",
    "model.eval()\n",
    "\n",
    "eval_dataloader = accelerator.prepare(eval_dataloader)\n",
    "for batch in eval_dataloader:\n",
    "    with torch.no_grad():\n",
    "        outputs = model(**batch)\n",
    "    \n",
    "    logits = outputs.logits\n",
    "    predictions = torch.argmax(logits, dim=-1)\n",
    "    metric.add_batch(predictions=accelerator.gather(predictions), references=accelerator.gather(batch['labels']))\n",
    "\n",
    "metric.compute()"
   ],
   "metadata": {
    "collapsed": false,
    "ExecuteTime": {
     "end_time": "2024-02-18T06:27:08.473948900Z",
     "start_time": "2024-02-18T06:27:04.760638500Z"
    }
   },
   "id": "b8d6879905c95ca3",
   "execution_count": 26
  },
  {
   "cell_type": "code",
   "outputs": [
    {
     "data": {
      "text/plain": "tensor([0, 1, 1, 1, 1, 1, 1, 1], device='cuda:0')"
     },
     "execution_count": 30,
     "metadata": {},
     "output_type": "execute_result"
    }
   ],
   "source": [
    "predictions"
   ],
   "metadata": {
    "collapsed": false,
    "ExecuteTime": {
     "end_time": "2024-02-18T06:27:48.618524200Z",
     "start_time": "2024-02-18T06:27:48.606595100Z"
    }
   },
   "id": "71c8ee72126c3b9f",
   "execution_count": 30
  },
  {
   "cell_type": "code",
   "outputs": [
    {
     "name": "stdout",
     "output_type": "stream",
     "text": [
      "{'labels': tensor([1, 1, 1, 0, 0, 1, 0, 1], device='cuda:0'), 'input_ids': tensor([[  101,  7054,  1658,  2924,   112,   188,  2705,  3389,  2575,   117,\n",
      "          2639, 25991,   117,  1105,  3230,  6492,   117,  1103,  2705,  2798,\n",
      "          2575,   117,  1209,  2592,  2626,  1106,  1828,  1573,   119,   102,\n",
      "          9493,  2534, 20961,  4124,  2639, 25991,  1105,  1990,  2534,  7748,\n",
      "          4124,  3230,  6492,  1209,  2592,  1106,  1573,   119,   102,     0,\n",
      "             0,     0,     0,     0,     0,     0,     0,     0,     0,     0,\n",
      "             0,     0,     0,     0,     0,     0,     0,     0,     0,     0,\n",
      "             0,     0,     0,     0],\n",
      "        [  101,  1109,  1362,   112,   188,  1160,  2026, 12365, 11877,  1163,\n",
      "          1147,   158,   119,   156,   119,  3813,  5799,  1167,  1190, 10035,\n",
      "          1314,  2370,  1112,   170,  1523,  2247,  3813, 27221,  2416,  1167,\n",
      "          1104,  1126,  2380,  1171,  9936,  1190,  2637,   119,   102, 21057,\n",
      "          3813,  1120,  1241, 14748,  1105,  1302,   119,   123,  4100,  8226,\n",
      "          3291,   119,  5799,  1167,  1190, 10035,  1112,   170,  1523,  2247,\n",
      "          3813, 27221,  9249,   170,  2610,   118,  1190,   118,  2637,  2380,\n",
      "          1171,  9936,   119,   102],\n",
      "        [  101,  1792,  1106,  1103,  2877, 22347,  1111, 20012,  6342,  1105,\n",
      "         18461,   113,  2371,   118,  5127,  3911,   114,   117,  1175,  1127,\n",
      "          1627,  2103,  2740,  1104,  1143,  2225,  2897,  1107,  1103,  1244,\n",
      "          1311,  1107,  1617,   119,   102,  1109, 22347,  1111, 20012,  6342,\n",
      "          1105, 18461,  1163,  1175,  1127,  1627,  2103,  2740,  1104,  1143,\n",
      "          2225,  2897,  1107,  1103,  1244,  1311,  1107,  1617,   119,   102,\n",
      "             0,     0,     0,     0,     0,     0,     0,     0,     0,     0,\n",
      "             0,     0,     0,     0],\n",
      "        [  101,   138,  5065,  4162,  5223,  1872,  1107,  1103,  5634,  1104,\n",
      "          2470,  3625,  1105,  1108,  2637,  1106,  1855,  4476,  1373,  1103,\n",
      "          2245,  1137,  5060, 23278,  1118,  6356,  1480,   119,   102,   138,\n",
      "          5065,  4162,  5223,  1872,  1107,  1103,  5634,  1104,  2470,  1113,\n",
      "          3625,  1105,  1180,  1138, 10610,   118,  2049,  7390,  1165,  1122,\n",
      "          4919,  1657,  4476,  1373,  1103,  5060,  3153,  6356,  1480,   119,\n",
      "           102,     0,     0,     0,     0,     0,     0,     0,     0,     0,\n",
      "             0,     0,     0,     0],\n",
      "        [  101,  1109,  1419,  1238,   112,   189,  6505,  1103,  4692,  1104,\n",
      "          1103,  5627,  1105, 10528,   119,   102,  1252,  1419,  3878,  5363,\n",
      "          1103,  4692,  1104,  1103,  5627,  1250,  1106,  1576,  1154,  1103,\n",
      "          9215,  1104,  5860,   119,   102,     0,     0,     0,     0,     0,\n",
      "             0,     0,     0,     0,     0,     0,     0,     0,     0,     0,\n",
      "             0,     0,     0,     0,     0,     0,     0,     0,     0,     0,\n",
      "             0,     0,     0,     0,     0,     0,     0,     0,     0,     0,\n",
      "             0,     0,     0,     0],\n",
      "        [  101,  1109,  9943,  2557,  1156,  1145, 27430,  1147,  1936,  3711,\n",
      "          1222,  1103,  1223, 13814,  1116,  1106,  1103, 16321, 23940,  1116,\n",
      "           117,  1119,  1896,   119,   102,  2831,  1103,  3311,   117,  1103,\n",
      "          9943,  2557,  1209,  1145, 27430,  1147,  3209,  3711,  1222,  1103,\n",
      "          1223, 13814,  1116,  1106,  1103,  9660,   117,  1119,  1896,   119,\n",
      "           102,     0,     0,     0,     0,     0,     0,     0,     0,     0,\n",
      "             0,     0,     0,     0,     0,     0,     0,     0,     0,     0,\n",
      "             0,     0,     0,     0],\n",
      "        [  101,  1806, 14053,   154,  6718, 24603,  1163,  1103, 27285,  2145,\n",
      "          1915,  1113,  1210,   118,  2517, 10427,  2032,  1103,  2805,   119,\n",
      "           102,  1806, 14053,  1287,   154,  6718, 24603,  1163,  1103,  2699,\n",
      "          2805,  1108, 16789,   119,   102,     0,     0,     0,     0,     0,\n",
      "             0,     0,     0,     0,     0,     0,     0,     0,     0,     0,\n",
      "             0,     0,     0,     0,     0,     0,     0,     0,     0,     0,\n",
      "             0,     0,     0,     0,     0,     0,     0,     0,     0,     0,\n",
      "             0,     0,     0,     0],\n",
      "        [  101,   138,  1994,  1391,  1299,  1336,  1138,  1103,  2514,  1116,\n",
      "          1148,  1769,  1692,  1104,  1537, 16022,  7942,   117,  1103,  2332,\n",
      "          2853,  1163,  5286,   119,   102,  1109,  2514,  1116,  1148,  1105,\n",
      "          1178,  1769,  1692,  1104,  1537, 16022,  1142,  1214,  1108,  3659,\n",
      "          1118,  2332,  3878,  1113, 20456,   119,   129,   119,   102,     0,\n",
      "             0,     0,     0,     0,     0,     0,     0,     0,     0,     0,\n",
      "             0,     0,     0,     0,     0,     0,     0,     0,     0,     0,\n",
      "             0,     0,     0,     0]], device='cuda:0'), 'token_type_ids': tensor([[0, 0, 0, 0, 0, 0, 0, 0, 0, 0, 0, 0, 0, 0, 0, 0, 0, 0, 0, 0, 0, 0, 0, 0,\n",
      "         0, 0, 0, 0, 0, 0, 1, 1, 1, 1, 1, 1, 1, 1, 1, 1, 1, 1, 1, 1, 1, 1, 1, 1,\n",
      "         1, 0, 0, 0, 0, 0, 0, 0, 0, 0, 0, 0, 0, 0, 0, 0, 0, 0, 0, 0, 0, 0, 0, 0,\n",
      "         0, 0],\n",
      "        [0, 0, 0, 0, 0, 0, 0, 0, 0, 0, 0, 0, 0, 0, 0, 0, 0, 0, 0, 0, 0, 0, 0, 0,\n",
      "         0, 0, 0, 0, 0, 0, 0, 0, 0, 0, 0, 0, 0, 0, 0, 1, 1, 1, 1, 1, 1, 1, 1, 1,\n",
      "         1, 1, 1, 1, 1, 1, 1, 1, 1, 1, 1, 1, 1, 1, 1, 1, 1, 1, 1, 1, 1, 1, 1, 1,\n",
      "         1, 1],\n",
      "        [0, 0, 0, 0, 0, 0, 0, 0, 0, 0, 0, 0, 0, 0, 0, 0, 0, 0, 0, 0, 0, 0, 0, 0,\n",
      "         0, 0, 0, 0, 0, 0, 0, 0, 0, 0, 0, 1, 1, 1, 1, 1, 1, 1, 1, 1, 1, 1, 1, 1,\n",
      "         1, 1, 1, 1, 1, 1, 1, 1, 1, 1, 1, 1, 0, 0, 0, 0, 0, 0, 0, 0, 0, 0, 0, 0,\n",
      "         0, 0],\n",
      "        [0, 0, 0, 0, 0, 0, 0, 0, 0, 0, 0, 0, 0, 0, 0, 0, 0, 0, 0, 0, 0, 0, 0, 0,\n",
      "         0, 0, 0, 0, 0, 1, 1, 1, 1, 1, 1, 1, 1, 1, 1, 1, 1, 1, 1, 1, 1, 1, 1, 1,\n",
      "         1, 1, 1, 1, 1, 1, 1, 1, 1, 1, 1, 1, 1, 0, 0, 0, 0, 0, 0, 0, 0, 0, 0, 0,\n",
      "         0, 0],\n",
      "        [0, 0, 0, 0, 0, 0, 0, 0, 0, 0, 0, 0, 0, 0, 0, 0, 1, 1, 1, 1, 1, 1, 1, 1,\n",
      "         1, 1, 1, 1, 1, 1, 1, 1, 1, 1, 1, 0, 0, 0, 0, 0, 0, 0, 0, 0, 0, 0, 0, 0,\n",
      "         0, 0, 0, 0, 0, 0, 0, 0, 0, 0, 0, 0, 0, 0, 0, 0, 0, 0, 0, 0, 0, 0, 0, 0,\n",
      "         0, 0],\n",
      "        [0, 0, 0, 0, 0, 0, 0, 0, 0, 0, 0, 0, 0, 0, 0, 0, 0, 0, 0, 0, 0, 0, 0, 0,\n",
      "         0, 1, 1, 1, 1, 1, 1, 1, 1, 1, 1, 1, 1, 1, 1, 1, 1, 1, 1, 1, 1, 1, 1, 1,\n",
      "         1, 1, 1, 0, 0, 0, 0, 0, 0, 0, 0, 0, 0, 0, 0, 0, 0, 0, 0, 0, 0, 0, 0, 0,\n",
      "         0, 0],\n",
      "        [0, 0, 0, 0, 0, 0, 0, 0, 0, 0, 0, 0, 0, 0, 0, 0, 0, 0, 0, 0, 0, 1, 1, 1,\n",
      "         1, 1, 1, 1, 1, 1, 1, 1, 1, 1, 1, 0, 0, 0, 0, 0, 0, 0, 0, 0, 0, 0, 0, 0,\n",
      "         0, 0, 0, 0, 0, 0, 0, 0, 0, 0, 0, 0, 0, 0, 0, 0, 0, 0, 0, 0, 0, 0, 0, 0,\n",
      "         0, 0],\n",
      "        [0, 0, 0, 0, 0, 0, 0, 0, 0, 0, 0, 0, 0, 0, 0, 0, 0, 0, 0, 0, 0, 0, 0, 0,\n",
      "         0, 1, 1, 1, 1, 1, 1, 1, 1, 1, 1, 1, 1, 1, 1, 1, 1, 1, 1, 1, 1, 1, 1, 1,\n",
      "         1, 0, 0, 0, 0, 0, 0, 0, 0, 0, 0, 0, 0, 0, 0, 0, 0, 0, 0, 0, 0, 0, 0, 0,\n",
      "         0, 0]], device='cuda:0'), 'attention_mask': tensor([[1, 1, 1, 1, 1, 1, 1, 1, 1, 1, 1, 1, 1, 1, 1, 1, 1, 1, 1, 1, 1, 1, 1, 1,\n",
      "         1, 1, 1, 1, 1, 1, 1, 1, 1, 1, 1, 1, 1, 1, 1, 1, 1, 1, 1, 1, 1, 1, 1, 1,\n",
      "         1, 0, 0, 0, 0, 0, 0, 0, 0, 0, 0, 0, 0, 0, 0, 0, 0, 0, 0, 0, 0, 0, 0, 0,\n",
      "         0, 0],\n",
      "        [1, 1, 1, 1, 1, 1, 1, 1, 1, 1, 1, 1, 1, 1, 1, 1, 1, 1, 1, 1, 1, 1, 1, 1,\n",
      "         1, 1, 1, 1, 1, 1, 1, 1, 1, 1, 1, 1, 1, 1, 1, 1, 1, 1, 1, 1, 1, 1, 1, 1,\n",
      "         1, 1, 1, 1, 1, 1, 1, 1, 1, 1, 1, 1, 1, 1, 1, 1, 1, 1, 1, 1, 1, 1, 1, 1,\n",
      "         1, 1],\n",
      "        [1, 1, 1, 1, 1, 1, 1, 1, 1, 1, 1, 1, 1, 1, 1, 1, 1, 1, 1, 1, 1, 1, 1, 1,\n",
      "         1, 1, 1, 1, 1, 1, 1, 1, 1, 1, 1, 1, 1, 1, 1, 1, 1, 1, 1, 1, 1, 1, 1, 1,\n",
      "         1, 1, 1, 1, 1, 1, 1, 1, 1, 1, 1, 1, 0, 0, 0, 0, 0, 0, 0, 0, 0, 0, 0, 0,\n",
      "         0, 0],\n",
      "        [1, 1, 1, 1, 1, 1, 1, 1, 1, 1, 1, 1, 1, 1, 1, 1, 1, 1, 1, 1, 1, 1, 1, 1,\n",
      "         1, 1, 1, 1, 1, 1, 1, 1, 1, 1, 1, 1, 1, 1, 1, 1, 1, 1, 1, 1, 1, 1, 1, 1,\n",
      "         1, 1, 1, 1, 1, 1, 1, 1, 1, 1, 1, 1, 1, 0, 0, 0, 0, 0, 0, 0, 0, 0, 0, 0,\n",
      "         0, 0],\n",
      "        [1, 1, 1, 1, 1, 1, 1, 1, 1, 1, 1, 1, 1, 1, 1, 1, 1, 1, 1, 1, 1, 1, 1, 1,\n",
      "         1, 1, 1, 1, 1, 1, 1, 1, 1, 1, 1, 0, 0, 0, 0, 0, 0, 0, 0, 0, 0, 0, 0, 0,\n",
      "         0, 0, 0, 0, 0, 0, 0, 0, 0, 0, 0, 0, 0, 0, 0, 0, 0, 0, 0, 0, 0, 0, 0, 0,\n",
      "         0, 0],\n",
      "        [1, 1, 1, 1, 1, 1, 1, 1, 1, 1, 1, 1, 1, 1, 1, 1, 1, 1, 1, 1, 1, 1, 1, 1,\n",
      "         1, 1, 1, 1, 1, 1, 1, 1, 1, 1, 1, 1, 1, 1, 1, 1, 1, 1, 1, 1, 1, 1, 1, 1,\n",
      "         1, 1, 1, 0, 0, 0, 0, 0, 0, 0, 0, 0, 0, 0, 0, 0, 0, 0, 0, 0, 0, 0, 0, 0,\n",
      "         0, 0],\n",
      "        [1, 1, 1, 1, 1, 1, 1, 1, 1, 1, 1, 1, 1, 1, 1, 1, 1, 1, 1, 1, 1, 1, 1, 1,\n",
      "         1, 1, 1, 1, 1, 1, 1, 1, 1, 1, 1, 0, 0, 0, 0, 0, 0, 0, 0, 0, 0, 0, 0, 0,\n",
      "         0, 0, 0, 0, 0, 0, 0, 0, 0, 0, 0, 0, 0, 0, 0, 0, 0, 0, 0, 0, 0, 0, 0, 0,\n",
      "         0, 0],\n",
      "        [1, 1, 1, 1, 1, 1, 1, 1, 1, 1, 1, 1, 1, 1, 1, 1, 1, 1, 1, 1, 1, 1, 1, 1,\n",
      "         1, 1, 1, 1, 1, 1, 1, 1, 1, 1, 1, 1, 1, 1, 1, 1, 1, 1, 1, 1, 1, 1, 1, 1,\n",
      "         1, 0, 0, 0, 0, 0, 0, 0, 0, 0, 0, 0, 0, 0, 0, 0, 0, 0, 0, 0, 0, 0, 0, 0,\n",
      "         0, 0]], device='cuda:0')}\n"
     ]
    }
   ],
   "source": [
    "test_dataloader = DataLoader(tokenized_datasets['test'], batch_size=8, collate_fn=data_collator)\n",
    "test_dataloader = test_dataloader.remove\n",
    "test_data = accelerator.prepare(test_dataloader)\n",
    "for batch in test_data:\n",
    "    print(batch)\n",
    "    break\n",
    "    # with torch.no_grad():\n",
    "    #     output = model(**batch)\n",
    "    # \n",
    "    # logits = output.logits\n",
    "    # pred = torch.argmax(logits, dim=-1)"
   ],
   "metadata": {
    "collapsed": false,
    "ExecuteTime": {
     "end_time": "2024-02-18T06:48:18.782797600Z",
     "start_time": "2024-02-18T06:48:18.737645300Z"
    }
   },
   "id": "871fca4b98018f6b",
   "execution_count": 55
  },
  {
   "cell_type": "code",
   "outputs": [
    {
     "data": {
      "text/plain": "{'sentence1': \"PCCW 's chief operating officer , Mike Butcher , and Alex Arena , the chief financial officer , will report directly to Mr So .\",\n 'sentence2': 'Current Chief Operating Officer Mike Butcher and Group Chief Financial Officer Alex Arena will report to So .',\n 'label': 1,\n 'idx': 0}"
     },
     "execution_count": 134,
     "metadata": {},
     "output_type": "execute_result"
    }
   ],
   "source": [
    "dataset['test'][0]"
   ],
   "metadata": {
    "collapsed": false,
    "ExecuteTime": {
     "end_time": "2024-02-18T07:21:21.382074800Z",
     "start_time": "2024-02-18T07:21:21.368038600Z"
    }
   },
   "id": "e86c53eb34d53053",
   "execution_count": 134
  },
  {
   "cell_type": "code",
   "outputs": [],
   "source": [
    "sn = tokenize_function({\n",
    "    'sentence1':\"hi my name is amqa and my\",\n",
    "    'sentence2':\"I am amqa\"\n",
    "})"
   ],
   "metadata": {
    "collapsed": false,
    "ExecuteTime": {
     "end_time": "2024-02-18T07:21:54.740864900Z",
     "start_time": "2024-02-18T07:21:54.716852900Z"
    }
   },
   "id": "248bc377472d74e5",
   "execution_count": 135
  },
  {
   "cell_type": "code",
   "outputs": [],
   "source": [
    "x = sn"
   ],
   "metadata": {
    "collapsed": false,
    "ExecuteTime": {
     "end_time": "2024-02-18T07:21:55.525535300Z",
     "start_time": "2024-02-18T07:21:55.516525900Z"
    }
   },
   "id": "fb4e6e0c9d7927c",
   "execution_count": 136
  },
  {
   "cell_type": "code",
   "outputs": [],
   "source": [
    "x['input_ids'] = torch.tensor(x['input_ids'])\n",
    "x['token_type_ids'] = torch.tensor(x['token_type_ids'])\n",
    "x['attention_mask'] = torch.tensor(x['attention_mask'])"
   ],
   "metadata": {
    "collapsed": false,
    "ExecuteTime": {
     "end_time": "2024-02-18T07:21:56.158290600Z",
     "start_time": "2024-02-18T07:21:56.149284600Z"
    }
   },
   "id": "d4a15bc8fd9eb315",
   "execution_count": 137
  },
  {
   "cell_type": "code",
   "outputs": [],
   "source": [
    "x = {key: value.to('cuda:0') for key, value in x.items()}"
   ],
   "metadata": {
    "collapsed": false,
    "ExecuteTime": {
     "end_time": "2024-02-18T07:21:57.510493100Z",
     "start_time": "2024-02-18T07:21:57.501926500Z"
    }
   },
   "id": "1d818ef98c346c99",
   "execution_count": 138
  },
  {
   "cell_type": "code",
   "outputs": [],
   "source": [
    "with torch.no_grad():\n",
    "    out = model(x['input_ids'].unsqueeze(0), x['attention_mask'].unsqueeze(0),\n",
    "                  x['token_type_ids'].unsqueeze(0))"
   ],
   "metadata": {
    "collapsed": false,
    "ExecuteTime": {
     "end_time": "2024-02-18T07:21:58.129073300Z",
     "start_time": "2024-02-18T07:21:58.108652800Z"
    }
   },
   "id": "5584caba306c7567",
   "execution_count": 139
  },
  {
   "cell_type": "code",
   "outputs": [
    {
     "data": {
      "text/plain": "tensor(1, device='cuda:0')"
     },
     "execution_count": 140,
     "metadata": {},
     "output_type": "execute_result"
    }
   ],
   "source": [
    "torch.argmax(out.logits)"
   ],
   "metadata": {
    "collapsed": false,
    "ExecuteTime": {
     "end_time": "2024-02-18T07:21:58.711398Z",
     "start_time": "2024-02-18T07:21:58.701030400Z"
    }
   },
   "id": "3fe53fa80449df1f",
   "execution_count": 140
  },
  {
   "cell_type": "code",
   "outputs": [
    {
     "name": "stdout",
     "output_type": "stream",
     "text": [
      "torch.Size([1, 16])\n",
      "torch.Size([16])\n",
      "torch.Size([16])\n"
     ]
    }
   ],
   "source": [
    "print(x['input_ids'].unsqueeze(0).shape)\n",
    "print(x['attention_mask'].shape)\n",
    "print(x['token_type_ids'].shape)"
   ],
   "metadata": {
    "collapsed": false,
    "ExecuteTime": {
     "end_time": "2024-02-18T07:19:57.715740200Z",
     "start_time": "2024-02-18T07:19:57.707345Z"
    }
   },
   "id": "b23188ddf17857cd",
   "execution_count": 126
  },
  {
   "cell_type": "code",
   "outputs": [],
   "source": [],
   "metadata": {
    "collapsed": false
   },
   "id": "d120552b733d6c19"
  }
 ],
 "metadata": {
  "kernelspec": {
   "display_name": "Python 3",
   "language": "python",
   "name": "python3"
  },
  "language_info": {
   "codemirror_mode": {
    "name": "ipython",
    "version": 2
   },
   "file_extension": ".py",
   "mimetype": "text/x-python",
   "name": "python",
   "nbconvert_exporter": "python",
   "pygments_lexer": "ipython2",
   "version": "2.7.6"
  }
 },
 "nbformat": 4,
 "nbformat_minor": 5
}
